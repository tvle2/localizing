{
 "cells": [
  {
   "cell_type": "markdown",
   "source": [
    "# "
   ],
   "metadata": {
    "collapsed": false
   },
   "id": "987619c0c81c7ca7"
  },
  {
   "cell_type": "code",
   "execution_count": 1,
   "id": "initial_id",
   "metadata": {
    "collapsed": true,
    "ExecuteTime": {
     "end_time": "2024-01-31T02:42:17.462884Z",
     "start_time": "2024-01-31T02:42:11.153273Z"
    }
   },
   "outputs": [
    {
     "name": "stderr",
     "output_type": "stream",
     "text": [
      "Please first ``pip install -U cirq`` to enable related functionality in translation module\n"
     ]
    }
   ],
   "source": [
    "import jax\n",
    "\n",
    "from queso.sensors import Sensor"
   ]
  },
  {
   "cell_type": "code",
   "outputs": [],
   "source": [
    "sensor = Sensor(\n",
    "    n = 4,\n",
    "    k = 4,\n",
    "    kwargs = dict(\n",
    "        preparation='hardware_efficient_ansatz',\n",
    "    )\n",
    ")"
   ],
   "metadata": {
    "collapsed": false,
    "ExecuteTime": {
     "end_time": "2024-01-19T14:58:42.267368Z",
     "start_time": "2024-01-19T14:58:42.254178Z"
    }
   },
   "id": "a43ca4bcae28b520",
   "execution_count": 32
  },
  {
   "cell_type": "code",
   "outputs": [
    {
     "data": {
      "text/plain": "<bound method Sensor.circuit of <queso.sensors.tc.sensor.Sensor object at 0x146ed3f70>>"
     },
     "execution_count": 33,
     "metadata": {},
     "output_type": "execute_result"
    }
   ],
   "source": [
    "sensor.circuit"
   ],
   "metadata": {
    "collapsed": false,
    "ExecuteTime": {
     "end_time": "2024-01-19T14:58:42.284968Z",
     "start_time": "2024-01-19T14:58:42.274432Z"
    }
   },
   "id": "61a308bbe97d28db",
   "execution_count": 33
  },
  {
   "cell_type": "code",
   "outputs": [],
   "source": [
    "key = jax.random.PRNGKey(10)\n",
    "theta = jax.random.uniform(key, sensor.theta.shape)\n",
    "phi = sensor.phi\n",
    "mu = sensor.mu"
   ],
   "metadata": {
    "collapsed": false,
    "ExecuteTime": {
     "end_time": "2024-01-19T14:58:42.322454Z",
     "start_time": "2024-01-19T14:58:42.291455Z"
    }
   },
   "id": "325aeb89bd4f8e5d",
   "execution_count": 34
  },
  {
   "cell_type": "code",
   "outputs": [
    {
     "data": {
      "text/plain": "     ┌───┐┌─────┐ ┌───┐      ┌─────┐ ┌───┐      ┌─────┐ ┌───┐      ┌─────┐»\nq_0: ┤ r ├┤1    ├─┤ r ├──────┤1    ├─┤ r ├──────┤1    ├─┤ r ├──────┤1    ├»\n     ├───┤│  cr │┌┴───┴┐┌───┐│  cr │┌┴───┴┐┌───┐│  cr │┌┴───┴┐┌───┐│  cr │»\nq_1: ┤ r ├┤0    ├┤1    ├┤ r ├┤0    ├┤1    ├┤ r ├┤0    ├┤1    ├┤ r ├┤0    ├»\n     ├───┤├─────┤│  cr │├───┤├─────┤│  cr │├───┤├─────┤│  cr │├───┤├─────┤»\nq_2: ┤ r ├┤1    ├┤0    ├┤ r ├┤1    ├┤0    ├┤ r ├┤1    ├┤0    ├┤ r ├┤1    ├»\n     ├───┤│  cr │└┬───┬┘└───┘│  cr │└┬───┬┘└───┘│  cr │└┬───┬┘└───┘│  cr │»\nq_3: ┤ r ├┤0    ├─┤ r ├──────┤0    ├─┤ r ├──────┤0    ├─┤ r ├──────┤0    ├»\n     └───┘└─────┘ └───┘      └─────┘ └───┘      └─────┘ └───┘      └─────┘»\nc: 4/═════════════════════════════════════════════════════════════════════»\n                                                                          »\n«             ░ ┌───────┐ ░ ┌───┐ ░ \n«q_0: ────────░─┤ Rx(0) ├─░─┤ r ├─░─\n«     ┌─────┐ ░ ├───────┤ ░ ├───┤ ░ \n«q_1: ┤1    ├─░─┤ Rx(0) ├─░─┤ r ├─░─\n«     │  cr │ ░ ├───────┤ ░ ├───┤ ░ \n«q_2: ┤0    ├─░─┤ Rx(0) ├─░─┤ r ├─░─\n«     └─────┘ ░ ├───────┤ ░ ├───┤ ░ \n«q_3: ────────░─┤ Rx(0) ├─░─┤ r ├─░─\n«             ░ └───────┘ ░ └───┘ ░ \n«c: 4/══════════════════════════════\n«                                   ",
      "text/html": "<pre style=\"word-wrap: normal;white-space: pre;background: #fff0;line-height: 1.1;font-family: &quot;Courier New&quot;,Courier,monospace\">     ┌───┐┌─────┐ ┌───┐      ┌─────┐ ┌───┐      ┌─────┐ ┌───┐      ┌─────┐»\nq_0: ┤ r ├┤1    ├─┤ r ├──────┤1    ├─┤ r ├──────┤1    ├─┤ r ├──────┤1    ├»\n     ├───┤│  cr │┌┴───┴┐┌───┐│  cr │┌┴───┴┐┌───┐│  cr │┌┴───┴┐┌───┐│  cr │»\nq_1: ┤ r ├┤0    ├┤1    ├┤ r ├┤0    ├┤1    ├┤ r ├┤0    ├┤1    ├┤ r ├┤0    ├»\n     ├───┤├─────┤│  cr │├───┤├─────┤│  cr │├───┤├─────┤│  cr │├───┤├─────┤»\nq_2: ┤ r ├┤1    ├┤0    ├┤ r ├┤1    ├┤0    ├┤ r ├┤1    ├┤0    ├┤ r ├┤1    ├»\n     ├───┤│  cr │└┬───┬┘└───┘│  cr │└┬───┬┘└───┘│  cr │└┬───┬┘└───┘│  cr │»\nq_3: ┤ r ├┤0    ├─┤ r ├──────┤0    ├─┤ r ├──────┤0    ├─┤ r ├──────┤0    ├»\n     └───┘└─────┘ └───┘      └─────┘ └───┘      └─────┘ └───┘      └─────┘»\nc: 4/═════════════════════════════════════════════════════════════════════»\n                                                                          »\n«             ░ ┌───────┐ ░ ┌───┐ ░ \n«q_0: ────────░─┤ Rx(0) ├─░─┤ r ├─░─\n«     ┌─────┐ ░ ├───────┤ ░ ├───┤ ░ \n«q_1: ┤1    ├─░─┤ Rx(0) ├─░─┤ r ├─░─\n«     │  cr │ ░ ├───────┤ ░ ├───┤ ░ \n«q_2: ┤0    ├─░─┤ Rx(0) ├─░─┤ r ├─░─\n«     └─────┘ ░ ├───────┤ ░ ├───┤ ░ \n«q_3: ────────░─┤ Rx(0) ├─░─┤ r ├─░─\n«             ░ └───────┘ ░ └───┘ ░ \n«c: 4/══════════════════════════════\n«                                   </pre>"
     },
     "execution_count": 35,
     "metadata": {},
     "output_type": "execute_result"
    }
   ],
   "source": [
    "sensor.circuit(theta, phi, mu).draw()"
   ],
   "metadata": {
    "collapsed": false,
    "ExecuteTime": {
     "end_time": "2024-01-19T14:58:42.770773Z",
     "start_time": "2024-01-19T14:58:42.311110Z"
    }
   },
   "id": "67b504244734a88c",
   "execution_count": 35
  },
  {
   "cell_type": "code",
   "outputs": [
    {
     "data": {
      "text/plain": "(Array([0., 0., 1., 1.], dtype=float64), Array(0.15478595, dtype=float64))"
     },
     "execution_count": 36,
     "metadata": {},
     "output_type": "execute_result"
    }
   ],
   "source": [
    "sensor.circuit(theta, phi, mu).sample()"
   ],
   "metadata": {
    "collapsed": false,
    "ExecuteTime": {
     "end_time": "2024-01-19T14:58:43.323078Z",
     "start_time": "2024-01-19T14:58:42.772027Z"
    }
   },
   "id": "a307f23c8697fe98",
   "execution_count": 36
  },
  {
   "cell_type": "code",
   "outputs": [
    {
     "data": {
      "text/plain": "Array(2.23110151, dtype=float64)"
     },
     "execution_count": 38,
     "metadata": {},
     "output_type": "execute_result"
    }
   ],
   "source": [
    "sensor.cfi(theta, phi, mu)"
   ],
   "metadata": {
    "collapsed": false,
    "ExecuteTime": {
     "end_time": "2024-01-19T14:59:20.370857Z",
     "start_time": "2024-01-19T14:59:20.348318Z"
    }
   },
   "id": "9394f1af931c9c1a",
   "execution_count": 38
  }
 ],
 "metadata": {
  "kernelspec": {
   "display_name": "Python 3",
   "language": "python",
   "name": "python3"
  },
  "language_info": {
   "codemirror_mode": {
    "name": "ipython",
    "version": 2
   },
   "file_extension": ".py",
   "mimetype": "text/x-python",
   "name": "python",
   "nbconvert_exporter": "python",
   "pygments_lexer": "ipython2",
   "version": "2.7.6"
  }
 },
 "nbformat": 4,
 "nbformat_minor": 5
}
