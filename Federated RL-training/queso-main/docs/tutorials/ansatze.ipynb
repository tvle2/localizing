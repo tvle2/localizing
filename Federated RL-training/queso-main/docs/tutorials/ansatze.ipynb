{
 "cells": [
  {
   "cell_type": "markdown",
   "id": "7886dd19a23c6554",
   "metadata": {
    "collapsed": false
   },
   "source": [
    "# Sensors in `queso`\n",
    "\n",
    "Sensors describe the quantum system used for "
   ]
  },
  {
   "cell_type": "code",
   "execution_count": 1,
   "id": "initial_id",
   "metadata": {
    "ExecuteTime": {
     "end_time": "2024-01-31T02:36:59.143790Z",
     "start_time": "2024-01-31T02:36:52.275237Z"
    },
    "collapsed": true
   },
   "outputs": [
    {
     "name": "stderr",
     "output_type": "stream",
     "text": [
      "Please first ``pip install -U cirq`` to enable related functionality in translation module\n"
     ]
    }
   ],
   "source": [
    "\n",
    "import jax\n",
    "import matplotlib.pyplot as plt\n",
    "# import matplotlib\n",
    "# matplotlib.use('TkAgg')\n",
    "from queso.sensors import Sensor\n",
    "\n",
    "%matplotlib inline\n"
   ]
  },
  {
   "cell_type": "code",
   "execution_count": 8,
   "id": "aaa56840b01fca61",
   "metadata": {
    "ExecuteTime": {
     "end_time": "2024-01-31T02:39:57.802002Z",
     "start_time": "2024-01-31T02:39:54.160626Z"
    },
    "collapsed": false
   },
   "outputs": [
    {
     "name": "stdout",
     "output_type": "stream",
     "text": [
      "Sensor with probe state preparation using a 'hardware_efficient_ansatz' ansatz.\n"
     ]
    },
    {
     "data": {
      "text/html": [
       "<pre style=\"word-wrap: normal;white-space: pre;background: #fff0;line-height: 1.1;font-family: &quot;Courier New&quot;,Courier,monospace\">     ┌───────┐┌───────┐   ┌───────┐┌───────┐          ░ ┌───────┐ ░ ┌───┐ ░ \n",
       "q_0: ┤ Ry(0) ├┤ Rz(0) ├─■─┤ Ry(0) ├┤ Rz(0) ├──────────░─┤ Rz(0) ├─░─┤ r ├─░─\n",
       "     ├───────┤├───────┤ │ └───────┘├───────┤┌───────┐ ░ ├───────┤ ░ ├───┤ ░ \n",
       "q_1: ┤ Ry(0) ├┤ Rz(0) ├─■─────■────┤ Ry(0) ├┤ Rz(0) ├─░─┤ Rz(0) ├─░─┤ r ├─░─\n",
       "     ├───────┤├───────┤       │    ├───────┤├───────┤ ░ ├───────┤ ░ ├───┤ ░ \n",
       "q_2: ┤ Ry(0) ├┤ Rz(0) ├─■─────■────┤ Ry(0) ├┤ Rz(0) ├─░─┤ Rz(0) ├─░─┤ r ├─░─\n",
       "     ├───────┤├───────┤ │ ┌───────┐├───────┤└───────┘ ░ ├───────┤ ░ ├───┤ ░ \n",
       "q_3: ┤ Ry(0) ├┤ Rz(0) ├─■─┤ Ry(0) ├┤ Rz(0) ├──────────░─┤ Rz(0) ├─░─┤ r ├─░─\n",
       "     └───────┘└───────┘   └───────┘└───────┘          ░ └───────┘ ░ └───┘ ░ \n",
       "c: 4/═══════════════════════════════════════════════════════════════════════\n",
       "                                                                            </pre>"
      ],
      "text/plain": [
       "     ┌───────┐┌───────┐   ┌───────┐┌───────┐          ░ ┌───────┐ ░ ┌───┐ ░ \n",
       "q_0: ┤ Ry(0) ├┤ Rz(0) ├─■─┤ Ry(0) ├┤ Rz(0) ├──────────░─┤ Rz(0) ├─░─┤ r ├─░─\n",
       "     ├───────┤├───────┤ │ └───────┘├───────┤┌───────┐ ░ ├───────┤ ░ ├───┤ ░ \n",
       "q_1: ┤ Ry(0) ├┤ Rz(0) ├─■─────■────┤ Ry(0) ├┤ Rz(0) ├─░─┤ Rz(0) ├─░─┤ r ├─░─\n",
       "     ├───────┤├───────┤       │    ├───────┤├───────┤ ░ ├───────┤ ░ ├───┤ ░ \n",
       "q_2: ┤ Ry(0) ├┤ Rz(0) ├─■─────■────┤ Ry(0) ├┤ Rz(0) ├─░─┤ Rz(0) ├─░─┤ r ├─░─\n",
       "     ├───────┤├───────┤ │ ┌───────┐├───────┤└───────┘ ░ ├───────┤ ░ ├───┤ ░ \n",
       "q_3: ┤ Ry(0) ├┤ Rz(0) ├─■─┤ Ry(0) ├┤ Rz(0) ├──────────░─┤ Rz(0) ├─░─┤ r ├─░─\n",
       "     └───────┘└───────┘   └───────┘└───────┘          ░ └───────┘ ░ └───┘ ░ \n",
       "c: 4/═══════════════════════════════════════════════════════════════════════\n",
       "                                                                            "
      ]
     },
     "metadata": {},
     "output_type": "display_data"
    },
    {
     "name": "stdout",
     "output_type": "stream",
     "text": [
      "Sensor with probe state preparation using a 'trapped_ion_ansatz' ansatz.\n"
     ]
    },
    {
     "data": {
      "text/html": [
       "<pre style=\"word-wrap: normal;white-space: pre;background: #fff0;line-height: 1.1;font-family: &quot;Courier New&quot;,Courier,monospace\">     ┌───────┐┌───────┐┌─────────┐ ┌───────┐ ┌───────┐          ░ ┌───────┐ ░ »\n",
       "q_0: ┤ Ry(0) ├┤ Rz(0) ├┤0        ├─┤ Ry(0) ├─┤ Rz(0) ├──────────░─┤ Rz(0) ├─░─»\n",
       "     ├───────┤├───────┤│  Rxx(0) │┌┴───────┴┐├───────┤┌───────┐ ░ ├───────┤ ░ »\n",
       "q_1: ┤ Ry(0) ├┤ Rz(0) ├┤1        ├┤0        ├┤ Ry(0) ├┤ Rz(0) ├─░─┤ Rz(0) ├─░─»\n",
       "     ├───────┤├───────┤├─────────┤│  Rxx(0) │├───────┤├───────┤ ░ ├───────┤ ░ »\n",
       "q_2: ┤ Ry(0) ├┤ Rz(0) ├┤0        ├┤1        ├┤ Ry(0) ├┤ Rz(0) ├─░─┤ Rz(0) ├─░─»\n",
       "     ├───────┤├───────┤│  Rxx(0) │└┬───────┬┘├───────┤└───────┘ ░ ├───────┤ ░ »\n",
       "q_3: ┤ Ry(0) ├┤ Rz(0) ├┤1        ├─┤ Ry(0) ├─┤ Rz(0) ├──────────░─┤ Rz(0) ├─░─»\n",
       "     └───────┘└───────┘└─────────┘ └───────┘ └───────┘          ░ └───────┘ ░ »\n",
       "c: 4/═════════════════════════════════════════════════════════════════════════»\n",
       "                                                                              »\n",
       "«     ┌───┐ ░ \n",
       "«q_0: ┤ r ├─░─\n",
       "«     ├───┤ ░ \n",
       "«q_1: ┤ r ├─░─\n",
       "«     ├───┤ ░ \n",
       "«q_2: ┤ r ├─░─\n",
       "«     ├───┤ ░ \n",
       "«q_3: ┤ r ├─░─\n",
       "«     └───┘ ░ \n",
       "«c: 4/════════\n",
       "«             </pre>"
      ],
      "text/plain": [
       "     ┌───────┐┌───────┐┌─────────┐ ┌───────┐ ┌───────┐          ░ ┌───────┐ ░ »\n",
       "q_0: ┤ Ry(0) ├┤ Rz(0) ├┤0        ├─┤ Ry(0) ├─┤ Rz(0) ├──────────░─┤ Rz(0) ├─░─»\n",
       "     ├───────┤├───────┤│  Rxx(0) │┌┴───────┴┐├───────┤┌───────┐ ░ ├───────┤ ░ »\n",
       "q_1: ┤ Ry(0) ├┤ Rz(0) ├┤1        ├┤0        ├┤ Ry(0) ├┤ Rz(0) ├─░─┤ Rz(0) ├─░─»\n",
       "     ├───────┤├───────┤├─────────┤│  Rxx(0) │├───────┤├───────┤ ░ ├───────┤ ░ »\n",
       "q_2: ┤ Ry(0) ├┤ Rz(0) ├┤0        ├┤1        ├┤ Ry(0) ├┤ Rz(0) ├─░─┤ Rz(0) ├─░─»\n",
       "     ├───────┤├───────┤│  Rxx(0) │└┬───────┬┘├───────┤└───────┘ ░ ├───────┤ ░ »\n",
       "q_3: ┤ Ry(0) ├┤ Rz(0) ├┤1        ├─┤ Ry(0) ├─┤ Rz(0) ├──────────░─┤ Rz(0) ├─░─»\n",
       "     └───────┘└───────┘└─────────┘ └───────┘ └───────┘          ░ └───────┘ ░ »\n",
       "c: 4/═════════════════════════════════════════════════════════════════════════»\n",
       "                                                                              »\n",
       "«     ┌───┐ ░ \n",
       "«q_0: ┤ r ├─░─\n",
       "«     ├───┤ ░ \n",
       "«q_1: ┤ r ├─░─\n",
       "«     ├───┤ ░ \n",
       "«q_2: ┤ r ├─░─\n",
       "«     ├───┤ ░ \n",
       "«q_3: ┤ r ├─░─\n",
       "«     └───┘ ░ \n",
       "«c: 4/════════\n",
       "«             "
      ]
     },
     "metadata": {},
     "output_type": "display_data"
    },
    {
     "name": "stdout",
     "output_type": "stream",
     "text": [
      "Sensor with probe state preparation using a 'photonic_graph_state_ansatz' ansatz.\n"
     ]
    },
    {
     "data": {
      "text/html": [
       "<pre style=\"word-wrap: normal;white-space: pre;background: #fff0;line-height: 1.1;font-family: &quot;Courier New&quot;,Courier,monospace\">     ┌───┐      ┌───┐         ░ ┌───────┐ ░ ┌───┐ ░ \n",
       "q_0: ┤ H ├─■──■─┤ r ├─────────░─┤ Rz(0) ├─░─┤ r ├─░─\n",
       "     ├───┤ │  │ └───┘   ┌───┐ ░ ├───────┤ ░ ├───┤ ░ \n",
       "q_1: ┤ H ├─┼──┼───■───■─┤ r ├─░─┤ Rz(0) ├─░─┤ r ├─░─\n",
       "     ├───┤ │  │   │   │ ├───┤ ░ ├───────┤ ░ ├───┤ ░ \n",
       "q_2: ┤ H ├─■──┼───■───┼─┤ r ├─░─┤ Rz(0) ├─░─┤ r ├─░─\n",
       "     ├───┤    │       │ ├───┤ ░ ├───────┤ ░ ├───┤ ░ \n",
       "q_3: ┤ H ├────■───────■─┤ r ├─░─┤ Rz(0) ├─░─┤ r ├─░─\n",
       "     └───┘              └───┘ ░ └───────┘ ░ └───┘ ░ \n",
       "c: 4/═══════════════════════════════════════════════\n",
       "                                                    </pre>"
      ],
      "text/plain": [
       "     ┌───┐      ┌───┐         ░ ┌───────┐ ░ ┌───┐ ░ \n",
       "q_0: ┤ H ├─■──■─┤ r ├─────────░─┤ Rz(0) ├─░─┤ r ├─░─\n",
       "     ├───┤ │  │ └───┘   ┌───┐ ░ ├───────┤ ░ ├───┤ ░ \n",
       "q_1: ┤ H ├─┼──┼───■───■─┤ r ├─░─┤ Rz(0) ├─░─┤ r ├─░─\n",
       "     ├───┤ │  │   │   │ ├───┤ ░ ├───────┤ ░ ├───┤ ░ \n",
       "q_2: ┤ H ├─■──┼───■───┼─┤ r ├─░─┤ Rz(0) ├─░─┤ r ├─░─\n",
       "     ├───┤    │       │ ├───┤ ░ ├───────┤ ░ ├───┤ ░ \n",
       "q_3: ┤ H ├────■───────■─┤ r ├─░─┤ Rz(0) ├─░─┤ r ├─░─\n",
       "     └───┘              └───┘ ░ └───────┘ ░ └───┘ ░ \n",
       "c: 4/═══════════════════════════════════════════════\n",
       "                                                    "
      ]
     },
     "metadata": {},
     "output_type": "display_data"
    }
   ],
   "source": [
    "for preparation in (\n",
    "    'hardware_efficient_ansatz',\n",
    "    'trapped_ion_ansatz',\n",
    "    'photonic_graph_state_ansatz',\n",
    "):\n",
    "    sensor = Sensor(\n",
    "        n=4, \n",
    "        k=1,\n",
    "        **dict(preparation=preparation)\n",
    "    )\n",
    "    print(f\"Sensor with probe state preparation using a '{preparation}' ansatz.\")\n",
    "    display(sensor.circuit(sensor.theta, sensor.phi, sensor.mu).draw(**dict(output=\"text\")))\n",
    "    "
   ]
  },
  {
   "cell_type": "code",
   "execution_count": 6,
   "id": "37cb1efb",
   "metadata": {
    "ExecuteTime": {
     "end_time": "2024-01-31T02:41:17.177156Z",
     "start_time": "2024-01-31T02:41:15.417008Z"
    }
   },
   "outputs": [
    {
     "name": "stdout",
     "output_type": "stream",
     "text": [
      "Sensor with local_rz interaction between probe state and parameter φ.\n"
     ]
    },
    {
     "data": {
      "text/html": [
       "<pre style=\"word-wrap: normal;white-space: pre;background: #fff0;line-height: 1.1;font-family: &quot;Courier New&quot;,Courier,monospace\">     ┌───────┐┌───────┐   ┌───────┐┌───────┐          ░ ┌───────┐ ░ ┌───┐ ░ \n",
       "q_0: ┤ Ry(0) ├┤ Rz(0) ├─■─┤ Ry(0) ├┤ Rz(0) ├──────────░─┤ Rz(0) ├─░─┤ r ├─░─\n",
       "     ├───────┤├───────┤ │ └───────┘├───────┤┌───────┐ ░ ├───────┤ ░ ├───┤ ░ \n",
       "q_1: ┤ Ry(0) ├┤ Rz(0) ├─■─────■────┤ Ry(0) ├┤ Rz(0) ├─░─┤ Rz(0) ├─░─┤ r ├─░─\n",
       "     ├───────┤├───────┤       │    ├───────┤├───────┤ ░ ├───────┤ ░ ├───┤ ░ \n",
       "q_2: ┤ Ry(0) ├┤ Rz(0) ├─■─────■────┤ Ry(0) ├┤ Rz(0) ├─░─┤ Rz(0) ├─░─┤ r ├─░─\n",
       "     ├───────┤├───────┤ │ ┌───────┐├───────┤└───────┘ ░ ├───────┤ ░ ├───┤ ░ \n",
       "q_3: ┤ Ry(0) ├┤ Rz(0) ├─■─┤ Ry(0) ├┤ Rz(0) ├──────────░─┤ Rz(0) ├─░─┤ r ├─░─\n",
       "     └───────┘└───────┘   └───────┘└───────┘          ░ └───────┘ ░ └───┘ ░ \n",
       "c: 4/═══════════════════════════════════════════════════════════════════════\n",
       "                                                                            </pre>"
      ],
      "text/plain": [
       "     ┌───────┐┌───────┐   ┌───────┐┌───────┐          ░ ┌───────┐ ░ ┌───┐ ░ \n",
       "q_0: ┤ Ry(0) ├┤ Rz(0) ├─■─┤ Ry(0) ├┤ Rz(0) ├──────────░─┤ Rz(0) ├─░─┤ r ├─░─\n",
       "     ├───────┤├───────┤ │ └───────┘├───────┤┌───────┐ ░ ├───────┤ ░ ├───┤ ░ \n",
       "q_1: ┤ Ry(0) ├┤ Rz(0) ├─■─────■────┤ Ry(0) ├┤ Rz(0) ├─░─┤ Rz(0) ├─░─┤ r ├─░─\n",
       "     ├───────┤├───────┤       │    ├───────┤├───────┤ ░ ├───────┤ ░ ├───┤ ░ \n",
       "q_2: ┤ Ry(0) ├┤ Rz(0) ├─■─────■────┤ Ry(0) ├┤ Rz(0) ├─░─┤ Rz(0) ├─░─┤ r ├─░─\n",
       "     ├───────┤├───────┤ │ ┌───────┐├───────┤└───────┘ ░ ├───────┤ ░ ├───┤ ░ \n",
       "q_3: ┤ Ry(0) ├┤ Rz(0) ├─■─┤ Ry(0) ├┤ Rz(0) ├──────────░─┤ Rz(0) ├─░─┤ r ├─░─\n",
       "     └───────┘└───────┘   └───────┘└───────┘          ░ └───────┘ ░ └───┘ ░ \n",
       "c: 4/═══════════════════════════════════════════════════════════════════════\n",
       "                                                                            "
      ]
     },
     "metadata": {},
     "output_type": "display_data"
    },
    {
     "name": "stdout",
     "output_type": "stream",
     "text": [
      "Sensor with local_rx interaction between probe state and parameter φ.\n"
     ]
    },
    {
     "data": {
      "text/html": [
       "<pre style=\"word-wrap: normal;white-space: pre;background: #fff0;line-height: 1.1;font-family: &quot;Courier New&quot;,Courier,monospace\">     ┌───────┐┌───────┐   ┌───────┐┌───────┐          ░ ┌───────┐ ░ ┌───┐ ░ \n",
       "q_0: ┤ Ry(0) ├┤ Rz(0) ├─■─┤ Ry(0) ├┤ Rz(0) ├──────────░─┤ Rx(0) ├─░─┤ r ├─░─\n",
       "     ├───────┤├───────┤ │ └───────┘├───────┤┌───────┐ ░ ├───────┤ ░ ├───┤ ░ \n",
       "q_1: ┤ Ry(0) ├┤ Rz(0) ├─■─────■────┤ Ry(0) ├┤ Rz(0) ├─░─┤ Rx(0) ├─░─┤ r ├─░─\n",
       "     ├───────┤├───────┤       │    ├───────┤├───────┤ ░ ├───────┤ ░ ├───┤ ░ \n",
       "q_2: ┤ Ry(0) ├┤ Rz(0) ├─■─────■────┤ Ry(0) ├┤ Rz(0) ├─░─┤ Rx(0) ├─░─┤ r ├─░─\n",
       "     ├───────┤├───────┤ │ ┌───────┐├───────┤└───────┘ ░ ├───────┤ ░ ├───┤ ░ \n",
       "q_3: ┤ Ry(0) ├┤ Rz(0) ├─■─┤ Ry(0) ├┤ Rz(0) ├──────────░─┤ Rx(0) ├─░─┤ r ├─░─\n",
       "     └───────┘└───────┘   └───────┘└───────┘          ░ └───────┘ ░ └───┘ ░ \n",
       "c: 4/═══════════════════════════════════════════════════════════════════════\n",
       "                                                                            </pre>"
      ],
      "text/plain": [
       "     ┌───────┐┌───────┐   ┌───────┐┌───────┐          ░ ┌───────┐ ░ ┌───┐ ░ \n",
       "q_0: ┤ Ry(0) ├┤ Rz(0) ├─■─┤ Ry(0) ├┤ Rz(0) ├──────────░─┤ Rx(0) ├─░─┤ r ├─░─\n",
       "     ├───────┤├───────┤ │ └───────┘├───────┤┌───────┐ ░ ├───────┤ ░ ├───┤ ░ \n",
       "q_1: ┤ Ry(0) ├┤ Rz(0) ├─■─────■────┤ Ry(0) ├┤ Rz(0) ├─░─┤ Rx(0) ├─░─┤ r ├─░─\n",
       "     ├───────┤├───────┤       │    ├───────┤├───────┤ ░ ├───────┤ ░ ├───┤ ░ \n",
       "q_2: ┤ Ry(0) ├┤ Rz(0) ├─■─────■────┤ Ry(0) ├┤ Rz(0) ├─░─┤ Rx(0) ├─░─┤ r ├─░─\n",
       "     ├───────┤├───────┤ │ ┌───────┐├───────┤└───────┘ ░ ├───────┤ ░ ├───┤ ░ \n",
       "q_3: ┤ Ry(0) ├┤ Rz(0) ├─■─┤ Ry(0) ├┤ Rz(0) ├──────────░─┤ Rx(0) ├─░─┤ r ├─░─\n",
       "     └───────┘└───────┘   └───────┘└───────┘          ░ └───────┘ ░ └───┘ ░ \n",
       "c: 4/═══════════════════════════════════════════════════════════════════════\n",
       "                                                                            "
      ]
     },
     "metadata": {},
     "output_type": "display_data"
    }
   ],
   "source": [
    "for interaction in (\n",
    "    'local_rz',\n",
    "    'local_rx',\n",
    "):\n",
    "    sensor = Sensor(\n",
    "        n=4, \n",
    "        k=1,\n",
    "        **dict(interaction=interaction)\n",
    "    )\n",
    "    print(f\"Sensor with {interaction} interaction between probe state and parameter φ.\")\n",
    "    display(sensor.circuit(sensor.theta, sensor.phi, sensor.mu).draw(**dict(output=\"text\")))\n",
    "    "
   ]
  },
  {
   "cell_type": "code",
   "execution_count": null,
   "id": "796bd09c",
   "metadata": {},
   "outputs": [],
   "source": []
  }
 ],
 "metadata": {
  "kernelspec": {
   "display_name": "Python 3",
   "language": "python",
   "name": "python3"
  },
  "language_info": {
   "codemirror_mode": {
    "name": "ipython",
    "version": 3
   },
   "file_extension": ".py",
   "mimetype": "text/x-python",
   "name": "python",
   "nbconvert_exporter": "python",
   "pygments_lexer": "ipython3",
   "version": "3.9.6"
  }
 },
 "nbformat": 4,
 "nbformat_minor": 5
}
