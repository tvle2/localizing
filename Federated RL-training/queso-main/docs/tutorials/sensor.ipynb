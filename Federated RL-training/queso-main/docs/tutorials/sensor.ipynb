{
 "cells": [
  {
   "cell_type": "markdown",
   "metadata": {},
   "source": [
    "# Sensors in `queso`\n",
    "\n",
    "Sensors describe the quantum system used for "
   ]
  },
  {
   "cell_type": "code",
   "execution_count": 2,
   "metadata": {},
   "outputs": [
    {
     "name": "stderr",
     "output_type": "stream",
     "text": [
      "Please first ``pip install -U cirq`` to enable related functionality in translation module\n"
     ]
    }
   ],
   "source": [
    "import jax\n",
    "from queso.sensors import Sensor"
   ]
  },
  {
   "cell_type": "code",
   "execution_count": 5,
   "metadata": {},
   "outputs": [
    {
     "data": {
      "text/html": [
       "<pre style=\"word-wrap: normal;white-space: pre;background: #fff0;line-height: 1.1;font-family: &quot;Courier New&quot;,Courier,monospace\">     ┌───────┐┌───────┐   ┌───────┐┌───────┐          ░ ┌───────┐ ░ ┌───┐ ░ \n",
       "q_0: ┤ Ry(0) ├┤ Rz(0) ├─■─┤ Ry(0) ├┤ Rz(0) ├──────────░─┤ Rz(0) ├─░─┤ r ├─░─\n",
       "     ├───────┤├───────┤ │ └───────┘├───────┤┌───────┐ ░ ├───────┤ ░ ├───┤ ░ \n",
       "q_1: ┤ Ry(0) ├┤ Rz(0) ├─■─────■────┤ Ry(0) ├┤ Rz(0) ├─░─┤ Rz(0) ├─░─┤ r ├─░─\n",
       "     ├───────┤├───────┤       │    ├───────┤├───────┤ ░ ├───────┤ ░ ├───┤ ░ \n",
       "q_2: ┤ Ry(0) ├┤ Rz(0) ├─■─────■────┤ Ry(0) ├┤ Rz(0) ├─░─┤ Rz(0) ├─░─┤ r ├─░─\n",
       "     ├───────┤├───────┤ │ ┌───────┐├───────┤└───────┘ ░ ├───────┤ ░ ├───┤ ░ \n",
       "q_3: ┤ Ry(0) ├┤ Rz(0) ├─■─┤ Ry(0) ├┤ Rz(0) ├──────────░─┤ Rz(0) ├─░─┤ r ├─░─\n",
       "     └───────┘└───────┘   └───────┘└───────┘          ░ └───────┘ ░ └───┘ ░ \n",
       "c: 4/═══════════════════════════════════════════════════════════════════════\n",
       "                                                                            </pre>"
      ],
      "text/plain": [
       "     ┌───────┐┌───────┐   ┌───────┐┌───────┐          ░ ┌───────┐ ░ ┌───┐ ░ \n",
       "q_0: ┤ Ry(0) ├┤ Rz(0) ├─■─┤ Ry(0) ├┤ Rz(0) ├──────────░─┤ Rz(0) ├─░─┤ r ├─░─\n",
       "     ├───────┤├───────┤ │ └───────┘├───────┤┌───────┐ ░ ├───────┤ ░ ├───┤ ░ \n",
       "q_1: ┤ Ry(0) ├┤ Rz(0) ├─■─────■────┤ Ry(0) ├┤ Rz(0) ├─░─┤ Rz(0) ├─░─┤ r ├─░─\n",
       "     ├───────┤├───────┤       │    ├───────┤├───────┤ ░ ├───────┤ ░ ├───┤ ░ \n",
       "q_2: ┤ Ry(0) ├┤ Rz(0) ├─■─────■────┤ Ry(0) ├┤ Rz(0) ├─░─┤ Rz(0) ├─░─┤ r ├─░─\n",
       "     ├───────┤├───────┤ │ ┌───────┐├───────┤└───────┘ ░ ├───────┤ ░ ├───┤ ░ \n",
       "q_3: ┤ Ry(0) ├┤ Rz(0) ├─■─┤ Ry(0) ├┤ Rz(0) ├──────────░─┤ Rz(0) ├─░─┤ r ├─░─\n",
       "     └───────┘└───────┘   └───────┘└───────┘          ░ └───────┘ ░ └───┘ ░ \n",
       "c: 4/═══════════════════════════════════════════════════════════════════════\n",
       "                                                                            "
      ]
     },
     "execution_count": 5,
     "metadata": {},
     "output_type": "execute_result"
    }
   ],
   "source": [
    "sensor = Sensor(\n",
    "    n=4, \n",
    "    k=1\n",
    ")\n",
    "\n",
    "theta, phi, mu = sensor.theta, sensor.phi, sensor.mu\n",
    "sensor.circuit(theta, phi, mu).draw()"
   ]
  },
  {
   "cell_type": "code",
   "execution_count": 4,
   "metadata": {},
   "outputs": [
    {
     "name": "stdout",
     "output_type": "stream",
     "text": [
      "The Quantum Fisher Information is 2.792888358638164.\n",
      "The Classical Fisher Information is 0.43374815538626954.\n"
     ]
    }
   ],
   "source": [
    "theta, phi, mu = sensor.init_params()\n",
    "print(f\"The Quantum Fisher Information is {sensor.qfi(theta, phi)}.\")\n",
    "print(f\"The Classical Fisher Information is {sensor.cfi(theta, phi, mu)}.\")"
   ]
  },
  {
   "cell_type": "code",
   "execution_count": 4,
   "metadata": {},
   "outputs": [
    {
     "name": "stdout",
     "output_type": "stream",
     "text": [
      "[[1 0 0 0]\n",
      " [1 0 0 1]\n",
      " [1 0 1 1]\n",
      " [1 0 1 0]\n",
      " [0 0 1 1]\n",
      " [0 1 0 1]\n",
      " [1 0 0 1]\n",
      " [1 0 1 0]\n",
      " [1 0 1 1]\n",
      " [1 0 1 0]]\n"
     ]
    }
   ],
   "source": [
    "shots = sensor.sample(theta, phi, mu, n_shots=10).astype('int')\n",
    "print(shots)"
   ]
  },
  {
   "cell_type": "code",
   "execution_count": 5,
   "metadata": {},
   "outputs": [],
   "source": [
    "probs = sensor.probs(theta, phi, mu)\n",
    "freqs = sensor.sample(theta, phi, mu, n_shots=10)"
   ]
  }
 ],
 "metadata": {
  "kernelspec": {
   "display_name": "queso1",
   "language": "python",
   "name": "python3"
  },
  "language_info": {
   "codemirror_mode": {
    "name": "ipython",
    "version": 3
   },
   "file_extension": ".py",
   "mimetype": "text/x-python",
   "name": "python",
   "nbconvert_exporter": "python",
   "pygments_lexer": "ipython3",
   "version": "3.9.6"
  }
 },
 "nbformat": 4,
 "nbformat_minor": 2
}
