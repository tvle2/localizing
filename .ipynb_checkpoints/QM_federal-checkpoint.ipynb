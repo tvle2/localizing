{
 "cells": [
  {
   "cell_type": "markdown",
   "id": "0a312eba-89fc-4880-9338-019fa16d527c",
   "metadata": {},
   "source": [
    "# Quantum_Magnetometer Federal"
   ]
  },
  {
   "cell_type": "code",
   "execution_count": 1,
   "id": "b629f216-a0e7-4924-8bf4-0de9da94ce53",
   "metadata": {
    "tags": []
   },
   "outputs": [
    {
     "name": "stdout",
     "output_type": "stream",
     "text": [
      "XLA_FLAGS set to: --xla_gpu_cuda_data_dir=/blue/iruchkin/yuyangzhang/.conda/envs/yuyangpt/nvvm/libdevice\n"
     ]
    },
    {
     "name": "stderr",
     "output_type": "stream",
     "text": [
      "2025-07-20 10:30:26.042734: E external/local_xla/xla/stream_executor/cuda/cuda_fft.cc:467] Unable to register cuFFT factory: Attempting to register factory for plugin cuFFT when one has already been registered\n",
      "WARNING: All log messages before absl::InitializeLog() is called are written to STDERR\n",
      "E0000 00:00:1753021826.764068  801470 cuda_dnn.cc:8579] Unable to register cuDNN factory: Attempting to register factory for plugin cuDNN when one has already been registered\n",
      "E0000 00:00:1753021827.213417  801470 cuda_blas.cc:1407] Unable to register cuBLAS factory: Attempting to register factory for plugin cuBLAS when one has already been registered\n",
      "W0000 00:00:1753021828.714702  801470 computation_placer.cc:177] computation placer already registered. Please check linkage and avoid linking the same target more than once.\n",
      "W0000 00:00:1753021828.714736  801470 computation_placer.cc:177] computation placer already registered. Please check linkage and avoid linking the same target more than once.\n",
      "W0000 00:00:1753021828.714737  801470 computation_placer.cc:177] computation placer already registered. Please check linkage and avoid linking the same target more than once.\n",
      "W0000 00:00:1753021828.714738  801470 computation_placer.cc:177] computation placer already registered. Please check linkage and avoid linking the same target more than once.\n",
      "I0000 00:00:1753021839.700980  801470 gpu_device.cc:2019] Created device /job:localhost/replica:0/task:0/device:GPU:0 with 20846 MB memory:  -> device: 0, name: NVIDIA L4, pci bus id: 0000:c1:00.0, compute capability: 8.9\n"
     ]
    },
    {
     "name": "stdout",
     "output_type": "stream",
     "text": [
      "🟢 Imports & paths set up\n",
      "   TF: 2.19.0 | GPUs: [PhysicalDevice(name='/physical_device:GPU:0', device_type='GPU')]\n",
      "🟢  TF logging & warnings silenced\n"
     ]
    }
   ],
   "source": [
    "from pathlib import Path\n",
    "import sys, site, os, glob, re, pathlib, warnings, logging\n",
    "from types import SimpleNamespace\n",
    "import pandas as pd\n",
    "import matplotlib.pyplot as plt\n",
    "\n",
    "env = sys.prefix\n",
    "\n",
    "# 2. Locate the vendored NVVM libdevice folder\n",
    "libdevice_dirs = glob.glob(os.path.join(env, \"nvvm\", \"libdevice\"))\n",
    "if not libdevice_dirs:\n",
    "    raise RuntimeError(\"Could not find nvvm/libdevice under \" + env)\n",
    "libdevice = libdevice_dirs[0]\n",
    "\n",
    "# 3. Tell XLA where to look\n",
    "os.environ[\"XLA_FLAGS\"] = f\"--xla_gpu_cuda_data_dir={libdevice}\"\n",
    "print(\"XLA_FLAGS set to:\", os.environ[\"XLA_FLAGS\"])\n",
    "\n",
    "# 1) Expose project root so src.qsensoropt is a package\n",
    "PROJECT_ROOT = Path(\"/home/yuyangzhang/MagNav/Federated RL-training/Train-RL-Federal\").resolve()\n",
    "if str(PROJECT_ROOT) not in sys.path:\n",
    "    sys.path.insert(0, str(PROJECT_ROOT))\n",
    "# Remove the bare /src dir if present (it masks the package)\n",
    "bad = str(PROJECT_ROOT / \"src\")\n",
    "if bad in sys.path:\n",
    "    sys.path.remove(bad)\n",
    "# Expose examples/ so nv_center_dc.py can be imported\n",
    "EXAMPLES = PROJECT_ROOT / \"examples\"\n",
    "if str(EXAMPLES) not in sys.path:\n",
    "    sys.path.append(str(EXAMPLES))\n",
    "\n",
    "# 2) Standard library types\n",
    "from typing import List, Optional, Tuple, Literal\n",
    "\n",
    "# 3) Numerical & ML libs\n",
    "import jax.numpy as jnp\n",
    "import numpy as np\n",
    "\n",
    "# ——— Monkey-patch for NumPy >=2.0 ———\n",
    "# numpy 2.x moved the index_tricks implementation into _index_tricks_impl,\n",
    "# so we alias it back so `import numpy.lib.index_tricks` still works.\n",
    "import numpy.lib._index_tricks_impl as _it\n",
    "sys.modules['numpy.lib.index_tricks'] = _it\n",
    "\n",
    "os.environ[\"XLA_FLAGS\"] = \"--xla_gpu_cuda_data_dir=/usr/local/cuda-12.8/nvvm/libdevice\"\n",
    "import builtins, inspect, tensorflow as tf\n",
    "\n",
    "# 4) TF helpers you’ll use later\n",
    "from tensorflow import Tensor, concat, constant, float32, __version__, config\n",
    "from tensorflow.math import exp, cos, abs as tf_abs\n",
    "from tensorflow.random import uniform\n",
    "from tensorflow.keras.optimizers import Adam\n",
    "from tensorflow.keras.optimizers.schedules import LearningRateSchedule\n",
    "from tensorflow import convert_to_tensor, cast, constant\n",
    "from tensorflow.math import divide, add, sqrt\n",
    "from tensorflow.random import uniform as tf_uniform\n",
    "\n",
    "# 5) NumPy math used below\n",
    "from numpy import ceil, sqrt\n",
    "\n",
    "# 6) qsensoropt package\n",
    "import src.qsensoropt.utils as qutils\n",
    "from src.qsensoropt import InverseSqrtDecay, ParticleFilter, Parameter, SimulationParameters\n",
    "from src.qsensoropt.utils import train, standard_model\n",
    "\n",
    "\n",
    "# 7) NV-center helpers\n",
    "from nv_center_dc import NVCenter, Magnetometry\n",
    "\n",
    "print(\"🟢 Imports & paths set up\")\n",
    "print(\"   TF:\", tf.__version__, \"| GPUs:\", tf.config.list_physical_devices(\"GPU\"))\n",
    "\n",
    "\n",
    "os.environ[\"TF_CPP_MIN_LOG_LEVEL\"] = \"2\"           # 0=all, 1=INFO, 2=WARNING, 3=ERROR\n",
    "\n",
    "logging.getLogger(\"tensorflow\").setLevel(logging.ERROR)\n",
    "\n",
    "warnings.filterwarnings(                           # “retracing” message\n",
    "    \"ignore\",\n",
    "    message=r\".*triggered tf\\.function retracing\",\n",
    "    category=UserWarning,\n",
    "    module=r\"tensorflow\\..*\")\n",
    "\n",
    "warnings.filterwarnings(                           # “lambda is unsafe” message\n",
    "    \"ignore\",\n",
    "    message=r\"The object being serialized includes a `lambda`\",\n",
    "    category=UserWarning,\n",
    "    module=r\"keras\\..*\")\n",
    "\n",
    "print(\"🟢  TF logging & warnings silenced\")"
   ]
  },
  {
   "cell_type": "markdown",
   "id": "b453b30e-b043-42ff-88e6-9488ef14dce2",
   "metadata": {},
   "source": [
    "### Patches"
   ]
  },
  {
   "cell_type": "code",
   "execution_count": 2,
   "id": "fa8e1b8b-0c81-4b92-adbc-bbcf38f1488a",
   "metadata": {
    "tags": []
   },
   "outputs": [],
   "source": [
    "# ---------- PATCH A · save_weights always ends with .weights.h5 --------------\n",
    "if not getattr(tf.keras.Model.save_weights, \"_patched\", False):        # ← NEW\n",
    "    _real_save = tf.keras.Model.save_weights\n",
    "\n",
    "    def _safe_save(self, fn, *a, **k):\n",
    "        fn = str(fn)\n",
    "        if not fn.endswith(\".weights.h5\"):\n",
    "            fn += \".weights.h5\"\n",
    "        Path(fn).parent.mkdir(parents=True, exist_ok=True)\n",
    "        return _real_save(self, fn, *a, **k)\n",
    "\n",
    "    _safe_save._patched = True                                          # ← NEW\n",
    "    tf.keras.Model.save_weights = _safe_save\n",
    "\n",
    "# ----- load_weights wrapper (NEW guard) --------------------------------------\n",
    "if not getattr(tf.keras.Model.load_weights, \"_patched\", False):\n",
    "    _real_load = tf.keras.Model.load_weights            # <-- keep original\n",
    "\n",
    "    def _safe_load(self, filepath, *args, **kw):\n",
    "        fp = str(filepath)\n",
    "\n",
    "        # 1) ensure recognised suffix\n",
    "        if not (fp.endswith(\".weights.h5\") or fp.endswith(\".keras\") or fp.endswith(\".h5\")):\n",
    "            fp += \".weights.h5\"\n",
    "\n",
    "        # 2) try \"<iter>_<head>.weights.h5\" fallback\n",
    "        if not Path(fp).exists():\n",
    "            m = re.search(r\"(\\d+)(\\d)\\.weights\\.h5$\", fp)\n",
    "            if m:\n",
    "                fp_alt = re.sub(r\"(\\d+)(\\d)\\.weights\\.h5$\", r\"\\1_\\2.weights.h5\", fp)\n",
    "                if Path(fp_alt).exists():\n",
    "                    fp = fp_alt\n",
    "\n",
    "        return _real_load(self, fp, *args, **kw)\n",
    "\n",
    "    _safe_load._patched = True\n",
    "    tf.keras.Model.load_weights = _safe_load\n",
    "\n",
    "if not getattr(tf.keras.Model.save, \"_patched\", False):\n",
    "    _real_model_save = tf.keras.Model.save          # <‑ original method\n",
    "\n",
    "    def _safe_model_save(self, filepath, *args, **kw):\n",
    "        \"\"\"\n",
    "        • Forces a recognised suffix (.keras / .h5 / .weights.h5).\n",
    "        • Creates parent directories if they don’t exist.\n",
    "        • Delegates to the original `Model.save` exactly once.\n",
    "        \"\"\"\n",
    "        fp = str(filepath)\n",
    "        recognised = (fp.endswith(\".keras\") or\n",
    "                      fp.endswith(\".h5\") or\n",
    "                      fp.endswith(\".weights.h5\"))\n",
    "        if not recognised:\n",
    "            fp += \".keras\"                          # default format\n",
    "\n",
    "        pathlib.Path(fp).parent.mkdir(parents=True, exist_ok=True)\n",
    "        return _real_model_save(self, fp, *args, **kw)\n",
    "\n",
    "    _safe_model_save._patched = True                # mark as patched\n",
    "    tf.keras.Model.save = _safe_model_save"
   ]
  },
  {
   "cell_type": "markdown",
   "id": "cef7bd92-27ba-448b-849b-5d6b37ccea5e",
   "metadata": {},
   "source": [
    "## Federal: Train the federated RL agent for the proposed federated reinforcement learning algorithm"
   ]
  },
  {
   "cell_type": "code",
   "execution_count": 3,
   "id": "d12be4fe-6d49-4908-98ed-aaf08c26dc61",
   "metadata": {
    "tags": []
   },
   "outputs": [],
   "source": [
    "T2_INV = 1/96\n",
    "F0, F1 = 0.88, 0.95\n",
    "\n",
    "class NVCenterDCMagnPhase(NVCenter):\n",
    "    def __init__(\n",
    "        self,\n",
    "        batchsize: int,\n",
    "        params: List[Parameter],\n",
    "        prec: Literal[\"float64\",\"float32\"] = \"float64\",\n",
    "        res:  Literal[\"meas\",\"time\"]      = \"meas\",\n",
    "        invT2: Optional[float]            = None,\n",
    "        F0:    float                      = 1.0,\n",
    "        F1:    float                      = 1.0,\n",
    "    ):\n",
    "\n",
    "        super().__init__(batchsize, params, prec=prec, res=res,\n",
    "                         control_phase=True)\n",
    "        self.invT2 = invT2\n",
    "        self.F0, self.F1 = F0, F1\n",
    "\n",
    "    def model(self, idxN, outcomes, controls, parameters, meas_step, num_systems=1):\n",
    "        τ = controls[:,:,0]\n",
    "        φ = controls[:,:,1]\n",
    "        ω = parameters[:,:,0]\n",
    "        invT2_loc = (self.invT2\n",
    "                     if self.invT2 is not None\n",
    "                     else parameters[:,:,1])\n",
    "        decay = tf.exp(-τ * invT2_loc)\n",
    "\n",
    "        # ±1 measurement: +1↔μ=0,  −1↔μ=1\n",
    "        r = outcomes[:,:,0]\n",
    "\n",
    "        # the paper’s p(0|ω) with fidelities built in\n",
    "        bias     = 0.5*(1 + self.F0 - self.F1)\n",
    "        contrast = 0.5*(self.F0 + self.F1 - 1)\n",
    "        base_cos = decay * tf.cos(ω*τ + φ)\n",
    "        p0_fid   = bias + contrast * base_cos\n",
    "\n",
    "        # return p(0|ω) when μ=0 else p(1|ω)=1−p(0|ω)\n",
    "        return tf.where(r > 0,\n",
    "                        p0_fid,\n",
    "                        1.0 - p0_fid)\n",
    "\n",
    "\n",
    "def static_field_estimation(\n",
    "    batchsize: int            = 1024,\n",
    "    max_res:   int            = 10000,\n",
    "    learning_rate: float      = 1e-3,\n",
    "    n_hidden:   int           = 64,\n",
    "    num_particles: int        = 240,\n",
    "    iterations:  int          = 4096,\n",
    "    res: Literal[\"meas\",\"time\"]= \"time\",\n",
    "    invT2: Optional[float]    = T2_INV,\n",
    "    invT2_bound: Optional[Tuple[float,float]] = None,\n",
    "    omega_bounds: Tuple[float,float] = (0.0, 10.0),\n",
    "    trained_models_dir: Path  = Path(\"./trained_models\"),\n",
    "):\n",
    "    # folders\n",
    "    trained_models_dir.mkdir(parents=True, exist_ok=True)\n",
    "    (trained_models_dir.parent / (trained_models_dir.name + \"_history_weights\")).mkdir(exist_ok=True)\n",
    "    print(\"CUDA:\", tf.config.list_physical_devices(\"GPU\"))\n",
    "\n",
    "    # 1) quick pre-train one network\n",
    "    d           = 1 if invT2 is not None else 2\n",
    "    INPUT_SIZE  = d**2 + 2*d + 2\n",
    "    CTRL_SIZE   = 2\n",
    "    NUM_HEADS   = 10\n",
    "\n",
    "    seed_net = standard_model(INPUT_SIZE, CTRL_SIZE, n_hidden, prec=\"float32\")\n",
    "    X0 = tf_uniform((16_384, INPUT_SIZE), -1.0, 1.0, dtype=tf.float32)\n",
    "    τ0 = (X0[:, -1:] + 1) / 2\n",
    "    φ0 = tf_uniform((16_384, 1), -1.0, 1.0, dtype=tf.float32)\n",
    "    seed_net.compile(loss=\"mse\", optimizer=\"adam\")\n",
    "    seed_net.fit(X0, tf.concat([τ0, φ0], 1), epochs=12, batch_size=1024, verbose=0)\n",
    "\n",
    "    # shared model across heads\n",
    "    network  = seed_net\n",
    "    networks = [network] * NUM_HEADS\n",
    "\n",
    "    # optimizer + schedule\n",
    "    lr_sched  = InverseSqrtDecay(learning_rate, \"float32\")\n",
    "    optimizer = Adam(lr_sched)\n",
    "\n",
    "    # physics objects\n",
    "    pars = ([Parameter(omega_bounds, name=\"omega\")] if invT2 is not None else\n",
    "            [Parameter(omega_bounds, \"omega\"), Parameter(invT2_bound, \"invT2\")])\n",
    "    nv = NVCenterDCMagnPhase(batchsize, pars,\n",
    "                             \"float32\", res,\n",
    "                             invT2=invT2,\n",
    "                             F0=F0,    # ← set to 1.0 for exact roll-back\n",
    "                             F1=F1)\n",
    "    pf   = ParticleFilter(num_particles, nv, prec=\"float32\")\n",
    "    simp = SimulationParameters(\"fedrl\", max_res, max_res,\n",
    "                                prec=\"float32\",\n",
    "                                cumulative_loss=True, log_loss=True)\n",
    "\n",
    "    # control wrapper\n",
    "    def control_nn(idxN: tf.Tensor, x: tf.Tensor):\n",
    "        π    = tf.constant(np.pi, tf.float32)\n",
    "        pref = max_res/20 if res==\"time\" else ceil(2**sqrt(max_res))\n",
    "        invT2_min = invT2 if invT2 is not None else invT2_bound[0]\n",
    "        if invT2_min > 0.0:\n",
    "            pref = min(pref, 1.0/invT2_min)\n",
    "        def branch(i):\n",
    "            τ = pref * tf.abs(networks[i](x)[:, :1]) + 1.0\n",
    "            φ = π   * networks[i](x)[:, 1:2]\n",
    "            return lambda: concat([τ, φ], 1)\n",
    "        return tf.switch_case(idxN, {i: branch(i) for i in range(NUM_HEADS)})\n",
    "\n",
    "    sim = Magnetometry(pf, nv, control_nn, simp, eta_flag=(res==\"time\"))\n",
    "\n",
    "    # train\n",
    "    train(sim, optimizer, iterations, str(trained_models_dir),\n",
    "          networks=networks,\n",
    "          gradient_accumulation=1,\n",
    "          xla_compile=False,\n",
    "          interval_save=1)"
   ]
  },
  {
   "cell_type": "code",
   "execution_count": null,
   "id": "bac56188-9886-42e3-8214-8b00dc5d2b35",
   "metadata": {
    "scrolled": true,
    "tags": []
   },
   "outputs": [
    {
     "name": "stdout",
     "output_type": "stream",
     "text": [
      "CUDA: [PhysicalDevice(name='/physical_device:GPU:0', device_type='GPU')]\n"
     ]
    },
    {
     "name": "stderr",
     "output_type": "stream",
     "text": [
      "\u001b[38;2;255;0;0m  0%\u001b[39m \u001b[38;2;255;0;0m(0 of 4096)\u001b[39m |                       | Elapsed Time: 0:00:00 ETA:  --:--:--"
     ]
    },
    {
     "name": "stdout",
     "output_type": "stream",
     "text": [
      "0 paTruees Tensor(\"uniform_particles/uniform_particles:0\", shape=(1024, 1, 1), dtype=float32)\n",
      "Tensor(\"particles/particles:0\", shape=(1024, 240, 1), dtype=float32) 2-particles (1024, 240, 1)\n",
      "\n",
      "Loss:  5.04602098\n",
      "1 paTruees Tensor(\"uniform_particles/uniform_particles:0\", shape=(1024, 1, 1), dtype=float32)\n",
      "Tensor(\"particles/particles:0\", shape=(1024, 240, 1), dtype=float32) 2-particles (1024, 240, 1)\n",
      "\n",
      "Loss:  4.93045759\n",
      "2 paTruees Tensor(\"uniform_particles/uniform_particles:0\", shape=(1024, 1, 1), dtype=float32)\n",
      "Tensor(\"particles/particles:0\", shape=(1024, 240, 1), dtype=float32) 2-particles (1024, 240, 1)\n",
      "\n",
      "Loss:  4.94584799\n",
      "3 paTruees Tensor(\"uniform_particles/uniform_particles:0\", shape=(1024, 1, 1), dtype=float32)\n",
      "Tensor(\"particles/particles:0\", shape=(1024, 240, 1), dtype=float32) 2-particles (1024, 240, 1)\n",
      "\n",
      "Loss:  5.10369205\n",
      "4 paTruees Tensor(\"uniform_particles/uniform_particles:0\", shape=(1024, 1, 1), dtype=float32)\n",
      "Tensor(\"particles/particles:0\", shape=(1024, 240, 1), dtype=float32) 2-particles (1024, 240, 1)\n",
      "\n",
      "Loss:  5.14723539\n",
      "5 paTruees Tensor(\"uniform_particles/uniform_particles:0\", shape=(1024, 1, 1), dtype=float32)\n",
      "Tensor(\"particles/particles:0\", shape=(1024, 240, 1), dtype=float32) 2-particles (1024, 240, 1)\n",
      "\n",
      "Loss:  5.06340313\n",
      "6 paTruees Tensor(\"uniform_particles/uniform_particles:0\", shape=(1024, 1, 1), dtype=float32)\n",
      "Tensor(\"particles/particles:0\", shape=(1024, 240, 1), dtype=float32) 2-particles (1024, 240, 1)\n",
      "\n",
      "Loss:  5.17511129\n",
      "7 paTruees Tensor(\"uniform_particles/uniform_particles:0\", shape=(1024, 1, 1), dtype=float32)\n",
      "Tensor(\"particles/particles:0\", shape=(1024, 240, 1), dtype=float32) 2-particles (1024, 240, 1)\n",
      "\n",
      "Loss:  5.07758808\n",
      "8 paTruees Tensor(\"uniform_particles/uniform_particles:0\", shape=(1024, 1, 1), dtype=float32)\n",
      "Tensor(\"particles/particles:0\", shape=(1024, 240, 1), dtype=float32) 2-particles (1024, 240, 1)\n",
      "\n",
      "Loss:  4.96844387\n",
      "9 paTruees Tensor(\"uniform_particles/uniform_particles:0\", shape=(1024, 1, 1), dtype=float32)\n",
      "Tensor(\"particles/particles:0\", shape=(1024, 240, 1), dtype=float32) 2-particles (1024, 240, 1)\n",
      "\n",
      "Loss:  5.12649679\n",
      "\n",
      "FL-Loss:  [5.05842924]\n",
      "/blue/iruchkin/yuyangzhang/MagNavRL/Federal/trained_models_history_weights/\n"
     ]
    },
    {
     "name": "stderr",
     "output_type": "stream",
     "text": [
      "\u001b[38;2;255;0;0m  0%\u001b[39m \u001b[38;2;255;0;0m(1 of 4096)\u001b[39m |                | Elapsed Time: 0:01:10 ETA:  3 days, 8:19:36"
     ]
    },
    {
     "name": "stdout",
     "output_type": "stream",
     "text": [
      "\n",
      "Loss:  6.00560713\n",
      "\n",
      "Loss:  6.03406382\n",
      "\n",
      "Loss:  6.04935026\n",
      "\n",
      "Loss:  6.00300217\n",
      "\n",
      "Loss:  6.01741552\n",
      "\n",
      "Loss:  5.99713373\n",
      "\n",
      "Loss:  5.98218966\n",
      "\n",
      "Loss:  5.99189901\n",
      "\n",
      "Loss:  6.02636194\n",
      "\n",
      "Loss:  6.04487562\n",
      "\n",
      "FL-Loss:  [6.01518965]\n",
      "/blue/iruchkin/yuyangzhang/MagNavRL/Federal/trained_models_history_weights/\n"
     ]
    },
    {
     "name": "stderr",
     "output_type": "stream",
     "text": [
      "\u001b[38;2;255;0;0m  0%\u001b[39m \u001b[38;2;255;0;0m(2 of 4096)\u001b[39m |                | Elapsed Time: 0:01:15 ETA:  1 day, 18:40:50"
     ]
    },
    {
     "name": "stdout",
     "output_type": "stream",
     "text": [
      "\n",
      "Loss:  6.09097338\n",
      "\n",
      "Loss:  6.11757755\n",
      "\n",
      "Loss:  6.01481152\n",
      "\n",
      "Loss:  6.00239515\n",
      "\n",
      "Loss:  5.99975491\n",
      "\n",
      "Loss:  6.01713\n",
      "\n",
      "Loss:  6.03040648\n",
      "\n",
      "Loss:  6.0355196\n",
      "\n",
      "Loss:  6.04104805\n",
      "\n",
      "Loss:  6.00901079\n",
      "\n",
      "FL-Loss:  [6.03586245]\n",
      "/blue/iruchkin/yuyangzhang/MagNavRL/Federal/trained_models_history_weights/\n"
     ]
    },
    {
     "name": "stderr",
     "output_type": "stream",
     "text": [
      "\u001b[38;2;255;0;0m  0%\u001b[39m \u001b[38;2;255;0;0m(3 of 4096)\u001b[39m |                 | Elapsed Time: 0:01:19 ETA:  1 day, 6:06:56"
     ]
    },
    {
     "name": "stdout",
     "output_type": "stream",
     "text": [
      "\n",
      "Loss:  6.01916075\n",
      "\n",
      "Loss:  6.03127909\n",
      "\n",
      "Loss:  6.05889606\n",
      "\n",
      "Loss:  6.05043\n",
      "\n",
      "Loss:  6.00534201\n",
      "\n",
      "Loss:  6.044168\n",
      "\n",
      "Loss:  6.04099846\n",
      "\n",
      "Loss:  6.05680418\n",
      "\n",
      "Loss:  6.08009863\n",
      "\n",
      "Loss:  6.01674414\n",
      "\n",
      "FL-Loss:  [6.0403924]\n",
      "/blue/iruchkin/yuyangzhang/MagNavRL/Federal/trained_models_history_weights/\n"
     ]
    },
    {
     "name": "stderr",
     "output_type": "stream",
     "text": [
      "\u001b[38;2;255;0;0m  0%\u001b[39m \u001b[38;2;255;0;0m(4 of 4096)\u001b[39m |                       | Elapsed Time: 0:01:23 ETA:  23:49:34"
     ]
    },
    {
     "name": "stdout",
     "output_type": "stream",
     "text": [
      "\n",
      "Loss:  6.00061846\n",
      "\n",
      "Loss:  5.9965291\n",
      "\n",
      "Loss:  6.02763844\n",
      "\n",
      "Loss:  5.97448\n",
      "\n",
      "Loss:  5.9813242\n",
      "\n",
      "Loss:  6.05728054\n",
      "\n",
      "Loss:  6.02138901\n",
      "\n",
      "Loss:  6.06524658\n",
      "\n",
      "Loss:  6.06404305\n",
      "\n",
      "Loss:  6.02524519\n",
      "\n",
      "FL-Loss:  [6.02137947]\n",
      "/blue/iruchkin/yuyangzhang/MagNavRL/Federal/trained_models_history_weights/\n"
     ]
    },
    {
     "name": "stderr",
     "output_type": "stream",
     "text": [
      "\u001b[38;2;255;0;0m  0%\u001b[39m \u001b[38;2;255;0;0m(5 of 4096)\u001b[39m |                       | Elapsed Time: 0:01:28 ETA:  20:00:55"
     ]
    },
    {
     "name": "stdout",
     "output_type": "stream",
     "text": [
      "\n",
      "Loss:  6.01502657\n",
      "\n",
      "Loss:  6.05382109\n",
      "\n",
      "Loss:  6.04203701\n",
      "\n",
      "Loss:  6.0892477\n",
      "\n",
      "Loss:  5.98778152\n",
      "\n",
      "Loss:  6.06327677\n",
      "\n",
      "Loss:  6.07288504\n",
      "\n",
      "Loss:  6.01459742\n",
      "\n",
      "Loss:  6.04327631\n",
      "\n",
      "Loss:  6.0348053\n",
      "\n",
      "FL-Loss:  [6.04167509]\n",
      "/blue/iruchkin/yuyangzhang/MagNavRL/Federal/trained_models_history_weights/\n"
     ]
    },
    {
     "name": "stderr",
     "output_type": "stream",
     "text": [
      "\u001b[38;2;255;0;0m  0%\u001b[39m \u001b[38;2;255;0;0m(6 of 4096)\u001b[39m |                       | Elapsed Time: 0:01:32 ETA:  17:26:33"
     ]
    },
    {
     "name": "stdout",
     "output_type": "stream",
     "text": [
      "\n",
      "Loss:  6.0863409\n",
      "\n",
      "Loss:  5.99617\n",
      "\n",
      "Loss:  6.03967285\n",
      "\n",
      "Loss:  6.05955458\n",
      "\n",
      "Loss:  6.02641439\n",
      "\n",
      "Loss:  6.04089\n",
      "\n",
      "Loss:  6.04099417\n",
      "\n",
      "Loss:  6.02894926\n",
      "\n",
      "Loss:  6.01607084\n",
      "\n",
      "Loss:  5.99021864\n",
      "\n",
      "FL-Loss:  [6.03252792]\n",
      "/blue/iruchkin/yuyangzhang/MagNavRL/Federal/trained_models_history_weights/\n"
     ]
    },
    {
     "name": "stderr",
     "output_type": "stream",
     "text": [
      "\u001b[38;2;255;1;0m  0%\u001b[39m \u001b[38;2;255;1;0m(7 of 4096)\u001b[39m |                       | Elapsed Time: 0:01:36 ETA:  15:36:26"
     ]
    },
    {
     "name": "stdout",
     "output_type": "stream",
     "text": [
      "\n",
      "Loss:  6.07372189\n",
      "\n",
      "Loss:  6.00918913\n",
      "\n",
      "Loss:  6.06178522\n",
      "\n",
      "Loss:  5.99999189\n",
      "\n",
      "Loss:  6.01563501\n",
      "\n",
      "Loss:  6.00742102\n",
      "\n",
      "Loss:  5.98197937\n",
      "\n",
      "Loss:  6.04110622\n",
      "\n",
      "Loss:  6.03188896\n",
      "\n",
      "Loss:  6.00496864\n",
      "\n",
      "FL-Loss:  [6.02276897]\n",
      "/blue/iruchkin/yuyangzhang/MagNavRL/Federal/trained_models_history_weights/\n"
     ]
    },
    {
     "name": "stderr",
     "output_type": "stream",
     "text": [
      "\u001b[38;2;255;1;0m  0%\u001b[39m \u001b[38;2;255;1;0m(8 of 4096)\u001b[39m |                       | Elapsed Time: 0:01:40 ETA:  14:13:56"
     ]
    },
    {
     "name": "stdout",
     "output_type": "stream",
     "text": [
      "\n",
      "Loss:  6.03807974\n",
      "\n",
      "Loss:  6.04221201\n",
      "\n",
      "Loss:  6.01210117\n",
      "\n",
      "Loss:  6.03062963\n",
      "\n",
      "Loss:  6.02239895\n",
      "\n",
      "Loss:  6.0279274\n",
      "\n",
      "Loss:  6.0578866\n",
      "\n",
      "Loss:  5.99624348\n",
      "\n",
      "Loss:  6.01252842\n",
      "\n",
      "Loss:  6.03391457\n",
      "\n",
      "FL-Loss:  [6.02739239]\n",
      "/blue/iruchkin/yuyangzhang/MagNavRL/Federal/trained_models_history_weights/\n"
     ]
    },
    {
     "name": "stderr",
     "output_type": "stream",
     "text": [
      "\u001b[38;2;255;1;0m  0%\u001b[39m \u001b[38;2;255;1;0m(9 of 4096)\u001b[39m |                       | Elapsed Time: 0:01:44 ETA:  13:10:10"
     ]
    },
    {
     "name": "stdout",
     "output_type": "stream",
     "text": [
      "\n",
      "Loss:  6.01827335\n",
      "\n",
      "Loss:  6.02508879\n",
      "\n",
      "Loss:  5.99513054\n",
      "\n",
      "Loss:  5.9889\n",
      "\n",
      "Loss:  6.00546932\n",
      "\n",
      "Loss:  6.03457642\n",
      "\n",
      "Loss:  5.97671652\n",
      "\n",
      "Loss:  6.02048731\n",
      "\n",
      "Loss:  6.0223546\n",
      "\n",
      "Loss:  6.0378356\n",
      "\n",
      "FL-Loss:  [6.0124836]\n",
      "/blue/iruchkin/yuyangzhang/MagNavRL/Federal/trained_models_history_weights/\n"
     ]
    },
    {
     "name": "stderr",
     "output_type": "stream",
     "text": [
      "\u001b[38;2;255;1;0m  0%\u001b[39m \u001b[38;2;255;1;0m(10 of 4096)\u001b[39m |                      | Elapsed Time: 0:01:48 ETA:  12:18:59"
     ]
    },
    {
     "name": "stdout",
     "output_type": "stream",
     "text": [
      "\n",
      "Loss:  6.01769114\n",
      "\n",
      "Loss:  6.05922318\n",
      "\n",
      "Loss:  6.00148678\n",
      "\n",
      "Loss:  5.99089479\n",
      "\n",
      "Loss:  6.0243597\n",
      "\n",
      "Loss:  6.01229048\n",
      "\n",
      "Loss:  5.99373\n",
      "\n",
      "Loss:  6.04032612\n",
      "\n",
      "Loss:  6.00977707\n",
      "\n",
      "Loss:  6.00619221\n",
      "\n",
      "FL-Loss:  [6.01559734]\n",
      "/blue/iruchkin/yuyangzhang/MagNavRL/Federal/trained_models_history_weights/\n"
     ]
    },
    {
     "name": "stderr",
     "output_type": "stream",
     "text": [
      "\u001b[38;2;255;1;0m  0%\u001b[39m \u001b[38;2;255;1;0m(11 of 4096)\u001b[39m |                      | Elapsed Time: 0:01:52 ETA:  11:36:44"
     ]
    },
    {
     "name": "stdout",
     "output_type": "stream",
     "text": [
      "\n",
      "Loss:  5.99376297\n",
      "\n",
      "Loss:  6.02765417\n",
      "\n",
      "Loss:  6.01632547\n",
      "\n",
      "Loss:  6.02060366\n",
      "\n",
      "Loss:  6.01005363\n",
      "\n",
      "Loss:  6.06525898\n",
      "\n",
      "Loss:  6.08929062\n",
      "\n",
      "Loss:  6.03047\n",
      "\n",
      "Loss:  6.02992964\n",
      "\n",
      "Loss:  6.07778645\n",
      "\n",
      "FL-Loss:  [6.03611326]\n",
      "/blue/iruchkin/yuyangzhang/MagNavRL/Federal/trained_models_history_weights/\n"
     ]
    },
    {
     "name": "stderr",
     "output_type": "stream",
     "text": [
      "\u001b[38;2;255;1;0m  0%\u001b[39m \u001b[38;2;255;1;0m(12 of 4096)\u001b[39m |                      | Elapsed Time: 0:01:56 ETA:  11:02:15"
     ]
    },
    {
     "name": "stdout",
     "output_type": "stream",
     "text": [
      "\n",
      "Loss:  6.03524113\n",
      "\n",
      "Loss:  6.01021385\n",
      "\n",
      "Loss:  6.02280903\n",
      "\n",
      "Loss:  5.99463081\n",
      "\n",
      "Loss:  5.98198414\n",
      "\n",
      "Loss:  6.00632954\n",
      "\n",
      "Loss:  6.01398563\n",
      "\n",
      "Loss:  6.04909611\n",
      "\n",
      "Loss:  6.0541811\n",
      "\n",
      "Loss:  6.04965\n",
      "\n",
      "FL-Loss:  [6.02181244]\n",
      "/blue/iruchkin/yuyangzhang/MagNavRL/Federal/trained_models_history_weights/\n"
     ]
    },
    {
     "name": "stderr",
     "output_type": "stream",
     "text": [
      "\u001b[38;2;255;2;0m  0%\u001b[39m \u001b[38;2;255;2;0m(13 of 4096)\u001b[39m |                      | Elapsed Time: 0:02:00 ETA:  10:32:27"
     ]
    },
    {
     "name": "stdout",
     "output_type": "stream",
     "text": [
      "\n",
      "Loss:  6.01201582\n",
      "\n",
      "Loss:  6.01833105\n",
      "\n",
      "Loss:  6.06845236\n",
      "\n",
      "Loss:  6.00733423\n",
      "\n",
      "Loss:  5.98267\n",
      "\n",
      "Loss:  6.03433895\n",
      "\n",
      "Loss:  6.06931877\n",
      "\n",
      "Loss:  6.04620361\n",
      "\n",
      "Loss:  6.06041479\n",
      "\n",
      "Loss:  6.01192188\n",
      "\n",
      "FL-Loss:  [6.0311]\n",
      "/blue/iruchkin/yuyangzhang/MagNavRL/Federal/trained_models_history_weights/\n"
     ]
    },
    {
     "name": "stderr",
     "output_type": "stream",
     "text": [
      "\u001b[38;2;255;2;0m  0%\u001b[39m \u001b[38;2;255;2;0m(14 of 4096)\u001b[39m |                      | Elapsed Time: 0:02:04 ETA:  10:06:50"
     ]
    },
    {
     "name": "stdout",
     "output_type": "stream",
     "text": [
      "\n",
      "Loss:  6.00545263\n",
      "\n",
      "Loss:  6.09202528\n",
      "\n",
      "Loss:  6.04064417\n",
      "\n",
      "Loss:  6.03526\n",
      "\n",
      "Loss:  6.03880024\n",
      "\n",
      "Loss:  6.03601\n",
      "\n",
      "Loss:  6.02988386\n",
      "\n",
      "Loss:  6.05089\n",
      "\n",
      "Loss:  6.05633879\n",
      "\n",
      "Loss:  5.98335361\n",
      "\n",
      "FL-Loss:  [6.03686571]\n",
      "/blue/iruchkin/yuyangzhang/MagNavRL/Federal/trained_models_history_weights/\n"
     ]
    },
    {
     "name": "stderr",
     "output_type": "stream",
     "text": [
      "\u001b[38;2;255;2;0m  0%\u001b[39m \u001b[38;2;255;2;0m(15 of 4096)\u001b[39m |                      | Elapsed Time: 0:02:08 ETA:   9:44:50"
     ]
    },
    {
     "name": "stdout",
     "output_type": "stream",
     "text": [
      "\n",
      "Loss:  6.01628208\n",
      "\n",
      "Loss:  6.05737305\n",
      "\n",
      "Loss:  6.05054379\n",
      "\n",
      "Loss:  6.044415\n",
      "\n",
      "Loss:  6.07451916\n",
      "\n",
      "Loss:  6.01782131\n",
      "\n",
      "Loss:  6.07843685\n",
      "\n",
      "Loss:  6.0413146\n",
      "\n",
      "Loss:  6.05796385\n",
      "\n",
      "Loss:  6.00646114\n",
      "\n",
      "FL-Loss:  [6.04451323]\n",
      "/blue/iruchkin/yuyangzhang/MagNavRL/Federal/trained_models_history_weights/\n"
     ]
    },
    {
     "name": "stderr",
     "output_type": "stream",
     "text": [
      "\u001b[38;2;255;2;0m  0%\u001b[39m \u001b[38;2;255;2;0m(16 of 4096)\u001b[39m |                      | Elapsed Time: 0:02:13 ETA:   9:25:52"
     ]
    },
    {
     "name": "stdout",
     "output_type": "stream",
     "text": [
      "\n",
      "Loss:  6.02062178\n",
      "\n",
      "Loss:  6.01103258\n",
      "\n",
      "Loss:  6.09891605\n",
      "\n",
      "Loss:  6.02128839\n",
      "\n",
      "Loss:  6.01466084\n",
      "\n",
      "Loss:  6.02142477\n",
      "\n",
      "Loss:  6.04457188\n",
      "\n",
      "Loss:  5.99953079\n",
      "\n",
      "Loss:  6.02113295\n",
      "\n",
      "Loss:  6.03780174\n",
      "\n",
      "FL-Loss:  [6.02909851]\n",
      "/blue/iruchkin/yuyangzhang/MagNavRL/Federal/trained_models_history_weights/\n"
     ]
    },
    {
     "name": "stderr",
     "output_type": "stream",
     "text": [
      "\u001b[38;2;255;2;0m  0%\u001b[39m \u001b[38;2;255;2;0m(17 of 4096)\u001b[39m |                      | Elapsed Time: 0:02:17 ETA:   9:08:52"
     ]
    },
    {
     "name": "stdout",
     "output_type": "stream",
     "text": [
      "\n",
      "Loss:  6.02358532\n",
      "\n",
      "Loss:  6.00104237\n",
      "\n",
      "Loss:  6.07980728\n",
      "\n",
      "Loss:  6.00163507\n",
      "\n",
      "Loss:  6.04124975\n",
      "\n",
      "Loss:  6.07821274\n",
      "\n",
      "Loss:  6.03615046\n",
      "\n",
      "Loss:  6.06572485\n",
      "\n",
      "Loss:  6.028\n",
      "\n",
      "Loss:  6.04819775\n",
      "\n",
      "FL-Loss:  [6.04036045]\n",
      "/blue/iruchkin/yuyangzhang/MagNavRL/Federal/trained_models_history_weights/\n"
     ]
    },
    {
     "name": "stderr",
     "output_type": "stream",
     "text": [
      "\u001b[38;2;255;2;0m  0%\u001b[39m \u001b[38;2;255;2;0m(18 of 4096)\u001b[39m |                      | Elapsed Time: 0:02:21 ETA:   8:53:58"
     ]
    },
    {
     "name": "stdout",
     "output_type": "stream",
     "text": [
      "\n",
      "Loss:  6.03258801\n",
      "\n",
      "Loss:  6.02345705\n",
      "\n",
      "Loss:  6.07942057\n",
      "\n",
      "Loss:  6.02006769\n",
      "\n",
      "Loss:  6.03919125\n",
      "\n",
      "Loss:  6.03567\n",
      "\n",
      "Loss:  5.96265554\n",
      "\n",
      "Loss:  6.01523876\n",
      "\n",
      "Loss:  6.04945278\n",
      "\n",
      "Loss:  6.05891132\n",
      "\n",
      "FL-Loss:  [6.03166533]\n",
      "/blue/iruchkin/yuyangzhang/MagNavRL/Federal/trained_models_history_weights/\n"
     ]
    },
    {
     "name": "stderr",
     "output_type": "stream",
     "text": [
      "\u001b[38;2;255;3;0m  0%\u001b[39m \u001b[38;2;255;3;0m(19 of 4096)\u001b[39m |                      | Elapsed Time: 0:02:25 ETA:   8:40:27"
     ]
    },
    {
     "name": "stdout",
     "output_type": "stream",
     "text": [
      "\n",
      "Loss:  6.01866722\n",
      "\n",
      "Loss:  6.04243\n",
      "\n",
      "Loss:  6.05396175\n",
      "\n",
      "Loss:  5.99448061\n",
      "\n",
      "Loss:  5.9871583\n",
      "\n",
      "Loss:  6.05121851\n",
      "\n",
      "Loss:  5.99406242\n",
      "\n",
      "Loss:  6.01537895\n",
      "\n",
      "Loss:  6.01411295\n",
      "\n",
      "Loss:  6.03713512\n",
      "\n",
      "FL-Loss:  [6.02086067]\n",
      "/blue/iruchkin/yuyangzhang/MagNavRL/Federal/trained_models_history_weights/\n"
     ]
    },
    {
     "name": "stderr",
     "output_type": "stream",
     "text": [
      "\u001b[38;2;255;3;0m  0%\u001b[39m \u001b[38;2;255;3;0m(20 of 4096)\u001b[39m |                      | Elapsed Time: 0:02:29 ETA:   8:28:50"
     ]
    },
    {
     "name": "stdout",
     "output_type": "stream",
     "text": [
      "\n",
      "Loss:  5.97688246\n",
      "\n",
      "Loss:  6.04913425\n",
      "\n",
      "Loss:  6.06417465\n",
      "\n",
      "Loss:  6.05022097\n",
      "\n",
      "Loss:  6.05696726\n",
      "\n",
      "Loss:  5.9934926\n",
      "\n",
      "Loss:  6.03965902\n",
      "\n",
      "Loss:  6.02407217\n",
      "\n",
      "Loss:  5.9993372\n",
      "\n",
      "Loss:  5.99395418\n",
      "\n",
      "FL-Loss:  [6.02478933]\n",
      "/blue/iruchkin/yuyangzhang/MagNavRL/Federal/trained_models_history_weights/\n"
     ]
    },
    {
     "name": "stderr",
     "output_type": "stream",
     "text": [
      "\u001b[38;2;255;3;0m  0%\u001b[39m \u001b[38;2;255;3;0m(21 of 4096)\u001b[39m |                      | Elapsed Time: 0:02:34 ETA:   8:18:05"
     ]
    },
    {
     "name": "stdout",
     "output_type": "stream",
     "text": [
      "\n",
      "Loss:  5.98567247\n",
      "\n",
      "Loss:  6.03794336\n",
      "\n",
      "Loss:  6.01762295\n",
      "\n",
      "Loss:  6.00384331\n",
      "\n",
      "Loss:  6.09717846\n",
      "\n",
      "Loss:  6.02442598\n",
      "\n",
      "Loss:  6.00244474\n",
      "\n",
      "Loss:  6.02022791\n",
      "\n",
      "Loss:  6.0648489\n",
      "\n",
      "Loss:  5.98861694\n",
      "\n",
      "FL-Loss:  [6.02428246]\n",
      "/blue/iruchkin/yuyangzhang/MagNavRL/Federal/trained_models_history_weights/\n"
     ]
    },
    {
     "name": "stderr",
     "output_type": "stream",
     "text": [
      "\u001b[38;2;255;3;0m  0%\u001b[39m \u001b[38;2;255;3;0m(22 of 4096)\u001b[39m |                      | Elapsed Time: 0:02:38 ETA:   8:08:02"
     ]
    },
    {
     "name": "stdout",
     "output_type": "stream",
     "text": [
      "\n",
      "Loss:  5.99109793\n",
      "\n",
      "Loss:  5.98703\n",
      "\n",
      "Loss:  6.03132\n",
      "\n",
      "Loss:  6.04176807\n",
      "\n",
      "Loss:  6.05709457\n",
      "\n",
      "Loss:  6.05615425\n",
      "\n",
      "Loss:  6.07563782\n",
      "\n",
      "Loss:  6.02059793\n",
      "\n",
      "Loss:  6.01547956\n",
      "\n",
      "Loss:  6.06055546\n",
      "\n",
      "FL-Loss:  [6.03367376]\n",
      "/blue/iruchkin/yuyangzhang/MagNavRL/Federal/trained_models_history_weights/\n"
     ]
    },
    {
     "name": "stderr",
     "output_type": "stream",
     "text": [
      "\u001b[38;2;255;3;0m  0%\u001b[39m \u001b[38;2;255;3;0m(23 of 4096)\u001b[39m |                      | Elapsed Time: 0:02:42 ETA:   7:59:12"
     ]
    },
    {
     "name": "stdout",
     "output_type": "stream",
     "text": [
      "\n",
      "Loss:  6.03855419\n",
      "\n",
      "Loss:  6.05907393\n",
      "\n",
      "Loss:  6.03134\n",
      "\n",
      "Loss:  6.06711149\n",
      "\n",
      "Loss:  6.06149912\n",
      "\n",
      "Loss:  5.96259\n",
      "\n",
      "Loss:  6.05236769\n",
      "\n",
      "Loss:  6.06097\n",
      "\n",
      "Loss:  6.03784895\n",
      "\n",
      "Loss:  6.02093458\n",
      "\n",
      "FL-Loss:  [6.03922939]\n",
      "/blue/iruchkin/yuyangzhang/MagNavRL/Federal/trained_models_history_weights/\n"
     ]
    },
    {
     "name": "stderr",
     "output_type": "stream",
     "text": [
      "\u001b[38;2;255;3;0m  0%\u001b[39m \u001b[38;2;255;3;0m(24 of 4096)\u001b[39m |                      | Elapsed Time: 0:02:46 ETA:   7:51:13"
     ]
    },
    {
     "name": "stdout",
     "output_type": "stream",
     "text": [
      "\n",
      "Loss:  6.08068895\n",
      "\n",
      "Loss:  6.05049801\n",
      "\n",
      "Loss:  6.01891136\n",
      "\n",
      "Loss:  5.96402931\n",
      "\n",
      "Loss:  6.04847145\n",
      "\n",
      "Loss:  6.00573301\n",
      "\n",
      "Loss:  6.05781507\n",
      "\n",
      "Loss:  6.04318237\n",
      "\n",
      "Loss:  6.025455\n",
      "\n",
      "Loss:  6.05380964\n",
      "\n",
      "FL-Loss:  [6.03485966]\n",
      "/blue/iruchkin/yuyangzhang/MagNavRL/Federal/trained_models_history_weights/\n"
     ]
    },
    {
     "name": "stderr",
     "output_type": "stream",
     "text": [
      "\u001b[38;2;255;4;0m  0%\u001b[39m \u001b[38;2;255;4;0m(25 of 4096)\u001b[39m |                      | Elapsed Time: 0:02:51 ETA:   7:44:10"
     ]
    },
    {
     "name": "stdout",
     "output_type": "stream",
     "text": [
      "\n",
      "Loss:  6.00392723\n",
      "\n",
      "Loss:  6.02299881\n",
      "\n",
      "Loss:  6.03407955\n",
      "\n",
      "Loss:  6.02606106\n",
      "\n",
      "Loss:  6.02556419\n",
      "\n",
      "Loss:  6.05941486\n",
      "\n",
      "Loss:  6.03589725\n",
      "\n",
      "Loss:  6.07257557\n",
      "\n",
      "Loss:  6.03637028\n",
      "\n",
      "Loss:  6.01674366\n",
      "\n",
      "FL-Loss:  [6.03336334]\n",
      "/blue/iruchkin/yuyangzhang/MagNavRL/Federal/trained_models_history_weights/\n"
     ]
    },
    {
     "name": "stderr",
     "output_type": "stream",
     "text": [
      "\u001b[38;2;255;4;0m  0%\u001b[39m \u001b[38;2;255;4;0m(26 of 4096)\u001b[39m |                      | Elapsed Time: 0:02:55 ETA:   7:36:56"
     ]
    },
    {
     "name": "stdout",
     "output_type": "stream",
     "text": [
      "\n",
      "Loss:  6.00890589\n",
      "\n",
      "Loss:  6.05202532\n",
      "\n",
      "Loss:  6.04083443\n",
      "\n",
      "Loss:  5.99731159\n",
      "\n",
      "Loss:  6.05728054\n",
      "\n",
      "Loss:  6.01839352\n",
      "\n",
      "Loss:  6.04438257\n",
      "\n",
      "Loss:  6.037395\n",
      "\n",
      "Loss:  6.03047037\n",
      "\n",
      "Loss:  6.051651\n",
      "\n",
      "FL-Loss:  [6.03386402]\n",
      "/blue/iruchkin/yuyangzhang/MagNavRL/Federal/trained_models_history_weights/\n"
     ]
    },
    {
     "name": "stderr",
     "output_type": "stream",
     "text": [
      "\u001b[38;2;255;4;0m  0%\u001b[39m \u001b[38;2;255;4;0m(27 of 4096)\u001b[39m |                      | Elapsed Time: 0:02:59 ETA:   7:30:11"
     ]
    },
    {
     "name": "stdout",
     "output_type": "stream",
     "text": [
      "\n",
      "Loss:  6.02591467\n",
      "\n",
      "Loss:  6.02909708\n",
      "\n",
      "Loss:  6.01595211\n",
      "\n",
      "Loss:  6.02528\n",
      "\n",
      "Loss:  6.06828213\n",
      "\n",
      "Loss:  6.08595324\n",
      "\n",
      "Loss:  6.02815723\n",
      "\n",
      "Loss:  5.98504543\n",
      "\n",
      "Loss:  6.03519297\n",
      "\n",
      "Loss:  6.04933214\n",
      "\n",
      "FL-Loss:  [6.03482056]\n",
      "/blue/iruchkin/yuyangzhang/MagNavRL/Federal/trained_models_history_weights/\n"
     ]
    },
    {
     "name": "stderr",
     "output_type": "stream",
     "text": [
      "\u001b[38;2;255;4;0m  0%\u001b[39m \u001b[38;2;255;4;0m(28 of 4096)\u001b[39m |                      | Elapsed Time: 0:03:03 ETA:   7:23:49"
     ]
    },
    {
     "name": "stdout",
     "output_type": "stream",
     "text": [
      "\n",
      "Loss:  5.99595547\n",
      "\n",
      "Loss:  6.02974033\n",
      "\n",
      "Loss:  6.05688858\n",
      "\n",
      "Loss:  6.00567484\n",
      "\n",
      "Loss:  5.97201777\n",
      "\n",
      "Loss:  6.01320076\n",
      "\n",
      "Loss:  6.00446606\n",
      "\n",
      "Loss:  6.0101409\n",
      "\n",
      "Loss:  6.03725672\n",
      "\n",
      "Loss:  6.01765156\n",
      "\n",
      "FL-Loss:  [6.01429892]\n",
      "/blue/iruchkin/yuyangzhang/MagNavRL/Federal/trained_models_history_weights/\n"
     ]
    },
    {
     "name": "stderr",
     "output_type": "stream",
     "text": [
      "\u001b[38;2;255;4;0m  0%\u001b[39m \u001b[38;2;255;4;0m(29 of 4096)\u001b[39m |                      | Elapsed Time: 0:03:07 ETA:   7:17:51"
     ]
    },
    {
     "name": "stdout",
     "output_type": "stream",
     "text": [
      "\n",
      "Loss:  5.98037815\n",
      "\n",
      "Loss:  6.0229845\n",
      "\n",
      "Loss:  6.0548358\n",
      "\n",
      "Loss:  6.04001379\n",
      "\n",
      "Loss:  6.06977129\n",
      "\n",
      "Loss:  5.99460793\n",
      "\n",
      "Loss:  6.01493359\n",
      "\n",
      "Loss:  6.02184\n",
      "\n",
      "Loss:  6.04339314\n",
      "\n",
      "Loss:  6.01981211\n",
      "\n",
      "FL-Loss:  [6.02625656]\n",
      "/blue/iruchkin/yuyangzhang/MagNavRL/Federal/trained_models_history_weights/\n"
     ]
    },
    {
     "name": "stderr",
     "output_type": "stream",
     "text": [
      "\u001b[38;2;255;4;0m  0%\u001b[39m \u001b[38;2;255;4;0m(30 of 4096)\u001b[39m |                      | Elapsed Time: 0:03:11 ETA:   7:12:18"
     ]
    },
    {
     "name": "stdout",
     "output_type": "stream",
     "text": [
      "\n",
      "Loss:  6.00358677\n",
      "\n",
      "Loss:  6.03945971\n",
      "\n",
      "Loss:  6.0721097\n",
      "\n",
      "Loss:  5.99362326\n",
      "\n",
      "Loss:  5.97627354\n",
      "\n",
      "Loss:  6.09050322\n",
      "\n",
      "Loss:  6.02779627\n",
      "\n",
      "Loss:  6.03615046\n",
      "\n",
      "Loss:  6.01140881\n",
      "\n",
      "Loss:  6.03618908\n",
      "\n",
      "FL-Loss:  [6.02871]\n",
      "/blue/iruchkin/yuyangzhang/MagNavRL/Federal/trained_models_history_weights/\n"
     ]
    },
    {
     "name": "stderr",
     "output_type": "stream",
     "text": [
      "\u001b[38;2;255;5;0m  0%\u001b[39m \u001b[38;2;255;5;0m(31 of 4096)\u001b[39m |                      | Elapsed Time: 0:03:15 ETA:   7:07:13"
     ]
    },
    {
     "name": "stdout",
     "output_type": "stream",
     "text": [
      "\n",
      "Loss:  5.99623728\n",
      "\n",
      "Loss:  6.04744673\n",
      "\n",
      "Loss:  6.01652145\n",
      "\n",
      "Loss:  6.06809855\n",
      "\n",
      "Loss:  6.07024622\n",
      "\n",
      "Loss:  5.97709\n",
      "\n",
      "Loss:  6.01066256\n",
      "\n",
      "Loss:  6.03964901\n",
      "\n",
      "Loss:  6.00748777\n",
      "\n",
      "Loss:  6.0095768\n",
      "\n",
      "FL-Loss:  [6.02430153]\n",
      "/blue/iruchkin/yuyangzhang/MagNavRL/Federal/trained_models_history_weights/\n"
     ]
    },
    {
     "name": "stderr",
     "output_type": "stream",
     "text": [
      "\u001b[38;2;255;5;0m  0%\u001b[39m \u001b[38;2;255;5;0m(32 of 4096)\u001b[39m |                      | Elapsed Time: 0:03:19 ETA:   7:02:39"
     ]
    },
    {
     "name": "stdout",
     "output_type": "stream",
     "text": [
      "\n",
      "Loss:  6.04623652\n",
      "\n",
      "Loss:  6.00464678\n",
      "\n",
      "Loss:  6.03785753\n",
      "\n",
      "Loss:  6.00767469\n",
      "\n",
      "Loss:  6.02438354\n",
      "\n",
      "Loss:  6.02999735\n",
      "\n",
      "Loss:  6.03420734\n",
      "\n",
      "Loss:  6.07113838\n",
      "\n",
      "Loss:  6.08023548\n",
      "\n",
      "Loss:  6.00188255\n",
      "\n",
      "FL-Loss:  [6.03382635]\n",
      "/blue/iruchkin/yuyangzhang/MagNavRL/Federal/trained_models_history_weights/\n"
     ]
    },
    {
     "name": "stderr",
     "output_type": "stream",
     "text": [
      "\u001b[38;2;255;5;0m  0%\u001b[39m \u001b[38;2;255;5;0m(33 of 4096)\u001b[39m |                      | Elapsed Time: 0:03:23 ETA:   6:58:19"
     ]
    },
    {
     "name": "stdout",
     "output_type": "stream",
     "text": [
      "\n",
      "Loss:  6.04179907\n",
      "\n",
      "Loss:  6.00027895\n",
      "\n",
      "Loss:  6.0410924\n",
      "\n",
      "Loss:  6.0226512\n",
      "\n",
      "Loss:  6.05871058\n",
      "\n",
      "Loss:  6.06726408\n",
      "\n",
      "Loss:  5.99654722\n",
      "\n",
      "Loss:  6.01852322\n",
      "\n",
      "Loss:  6.01812029\n",
      "\n",
      "Loss:  6.02142906\n",
      "\n",
      "FL-Loss:  [6.0286417]\n",
      "/blue/iruchkin/yuyangzhang/MagNavRL/Federal/trained_models_history_weights/\n"
     ]
    },
    {
     "name": "stderr",
     "output_type": "stream",
     "text": [
      "\u001b[38;2;255;5;0m  0%\u001b[39m \u001b[38;2;255;5;0m(34 of 4096)\u001b[39m |                      | Elapsed Time: 0:03:28 ETA:   6:54:17"
     ]
    },
    {
     "name": "stdout",
     "output_type": "stream",
     "text": [
      "\n",
      "Loss:  6.02380037\n",
      "\n",
      "Loss:  6.01743221\n",
      "\n",
      "Loss:  5.99529123\n",
      "\n",
      "Loss:  6.0548749\n",
      "\n",
      "Loss:  6.04983854\n",
      "\n",
      "Loss:  6.0418\n",
      "\n",
      "Loss:  6.00865889\n",
      "\n",
      "Loss:  6.05125475\n",
      "\n",
      "Loss:  6.01436806\n",
      "\n",
      "Loss:  6.08510923\n",
      "\n",
      "FL-Loss:  [6.03424263]\n",
      "/blue/iruchkin/yuyangzhang/MagNavRL/Federal/trained_models_history_weights/\n"
     ]
    },
    {
     "name": "stderr",
     "output_type": "stream",
     "text": [
      "\u001b[38;2;255;5;0m  0%\u001b[39m \u001b[38;2;255;5;0m(35 of 4096)\u001b[39m |                      | Elapsed Time: 0:03:32 ETA:   6:50:20"
     ]
    },
    {
     "name": "stdout",
     "output_type": "stream",
     "text": [
      "\n",
      "Loss:  6.0559144\n",
      "\n",
      "Loss:  6.0041852\n",
      "\n",
      "Loss:  5.99884558\n",
      "\n",
      "Loss:  5.98080492\n",
      "\n",
      "Loss:  6.01990366\n",
      "\n",
      "Loss:  6.05423832\n",
      "\n",
      "Loss:  5.95770741\n",
      "\n",
      "Loss:  6.05984545\n",
      "\n",
      "Loss:  6.01199675\n",
      "\n",
      "Loss:  5.99783421\n",
      "\n",
      "FL-Loss:  [6.01412773]\n",
      "/blue/iruchkin/yuyangzhang/MagNavRL/Federal/trained_models_history_weights/\n"
     ]
    },
    {
     "name": "stderr",
     "output_type": "stream",
     "text": [
      "\u001b[38;2;255;5;0m  0%\u001b[39m \u001b[38;2;255;5;0m(36 of 4096)\u001b[39m |                      | Elapsed Time: 0:03:36 ETA:   6:46:38"
     ]
    },
    {
     "name": "stdout",
     "output_type": "stream",
     "text": [
      "\n",
      "Loss:  6.0211091\n",
      "\n",
      "Loss:  6.01400948\n",
      "\n",
      "Loss:  6.01405907\n",
      "\n",
      "Loss:  6.01941776\n",
      "\n",
      "Loss:  6.08137655\n",
      "\n",
      "Loss:  6.04392862\n",
      "\n",
      "Loss:  5.98507929\n",
      "\n",
      "Loss:  5.993855\n",
      "\n",
      "Loss:  6.02024698\n",
      "\n",
      "Loss:  6.05016708\n",
      "\n",
      "FL-Loss:  [6.02432489]\n",
      "/blue/iruchkin/yuyangzhang/MagNavRL/Federal/trained_models_history_weights/\n"
     ]
    },
    {
     "name": "stderr",
     "output_type": "stream",
     "text": [
      "\u001b[38;2;255;6;0m  0%\u001b[39m \u001b[38;2;255;6;0m(37 of 4096)\u001b[39m |                      | Elapsed Time: 0:03:40 ETA:   6:43:09"
     ]
    },
    {
     "name": "stdout",
     "output_type": "stream",
     "text": [
      "\n",
      "Loss:  6.03015041\n",
      "\n",
      "Loss:  6.02781296\n",
      "\n",
      "Loss:  6.01724052\n",
      "\n",
      "Loss:  5.94837475\n",
      "\n",
      "Loss:  6.03193712\n",
      "\n",
      "Loss:  6.00567484\n",
      "\n",
      "Loss:  5.98748493\n",
      "\n",
      "Loss:  6.01210594\n",
      "\n",
      "Loss:  6.02266121\n",
      "\n",
      "Loss:  5.99103403\n",
      "\n",
      "FL-Loss:  [6.0074482]\n",
      "/blue/iruchkin/yuyangzhang/MagNavRL/Federal/trained_models_history_weights/\n"
     ]
    },
    {
     "name": "stderr",
     "output_type": "stream",
     "text": [
      "\u001b[38;2;255;6;0m  0%\u001b[39m \u001b[38;2;255;6;0m(38 of 4096)\u001b[39m |                      | Elapsed Time: 0:03:44 ETA:   6:40:00"
     ]
    },
    {
     "name": "stdout",
     "output_type": "stream",
     "text": [
      "\n",
      "Loss:  6.02568531\n",
      "\n",
      "Loss:  5.99992704\n",
      "\n",
      "Loss:  6.02896118\n",
      "\n",
      "Loss:  6.01366854\n",
      "\n",
      "Loss:  6.0325675\n",
      "\n",
      "Loss:  6.02328348\n",
      "\n",
      "Loss:  6.00622082\n",
      "\n",
      "Loss:  5.97441435\n",
      "\n",
      "Loss:  6.08450842\n",
      "\n",
      "Loss:  6.01438427\n",
      "\n",
      "FL-Loss:  [6.0203619]\n",
      "/blue/iruchkin/yuyangzhang/MagNavRL/Federal/trained_models_history_weights/\n"
     ]
    },
    {
     "name": "stderr",
     "output_type": "stream",
     "text": [
      "\u001b[38;2;255;6;0m  0%\u001b[39m \u001b[38;2;255;6;0m(39 of 4096)\u001b[39m |                      | Elapsed Time: 0:03:48 ETA:   6:36:44"
     ]
    },
    {
     "name": "stdout",
     "output_type": "stream",
     "text": [
      "\n",
      "Loss:  5.97930861\n",
      "\n",
      "Loss:  6.03996754\n",
      "\n",
      "Loss:  6.01301432\n",
      "\n",
      "Loss:  6.04380846\n",
      "\n",
      "Loss:  6.0256815\n",
      "\n",
      "Loss:  6.07395887\n",
      "\n",
      "Loss:  6.02081156\n",
      "\n",
      "Loss:  6.00740385\n",
      "\n",
      "Loss:  5.89985514\n",
      "\n",
      "Loss:  6.05419254\n",
      "\n",
      "FL-Loss:  [6.0158]\n",
      "/blue/iruchkin/yuyangzhang/MagNavRL/Federal/trained_models_history_weights/\n"
     ]
    },
    {
     "name": "stderr",
     "output_type": "stream",
     "text": [
      "\u001b[38;2;255;6;0m  0%\u001b[39m \u001b[38;2;255;6;0m(40 of 4096)\u001b[39m |                      | Elapsed Time: 0:03:53 ETA:   6:33:47"
     ]
    },
    {
     "name": "stdout",
     "output_type": "stream",
     "text": [
      "\n",
      "Loss:  5.99405146\n",
      "\n",
      "Loss:  6.00698853\n",
      "\n",
      "Loss:  6.02458239\n",
      "\n",
      "Loss:  6.04367685\n",
      "\n",
      "Loss:  5.97837496\n",
      "\n",
      "Loss:  6.03192091\n",
      "\n",
      "Loss:  6.02824974\n",
      "\n",
      "Loss:  5.97775364\n",
      "\n",
      "Loss:  5.98089647\n",
      "\n",
      "Loss:  6.05595112\n",
      "\n",
      "FL-Loss:  [6.0122447]\n",
      "/blue/iruchkin/yuyangzhang/MagNavRL/Federal/trained_models_history_weights/\n"
     ]
    },
    {
     "name": "stderr",
     "output_type": "stream",
     "text": [
      "\u001b[38;2;255;6;0m  1%\u001b[39m \u001b[38;2;255;6;0m(41 of 4096)\u001b[39m |                      | Elapsed Time: 0:03:57 ETA:   6:31:21"
     ]
    },
    {
     "name": "stdout",
     "output_type": "stream",
     "text": [
      "\n",
      "Loss:  5.99462891\n",
      "\n",
      "Loss:  6.02461386\n",
      "\n",
      "Loss:  6.0411129\n",
      "\n",
      "Loss:  6.02868176\n",
      "\n",
      "Loss:  5.97138786\n",
      "\n",
      "Loss:  6.03722286\n",
      "\n",
      "Loss:  6.01929522\n",
      "\n",
      "Loss:  5.99559164\n",
      "\n",
      "Loss:  6.03131914\n",
      "\n",
      "Loss:  6.03900814\n",
      "\n",
      "FL-Loss:  [6.01828623]\n",
      "/blue/iruchkin/yuyangzhang/MagNavRL/Federal/trained_models_history_weights/\n"
     ]
    },
    {
     "name": "stderr",
     "output_type": "stream",
     "text": [
      "\u001b[38;2;255;6;0m  1%\u001b[39m \u001b[38;2;255;6;0m(42 of 4096)\u001b[39m |                      | Elapsed Time: 0:04:01 ETA:   6:28:37"
     ]
    },
    {
     "name": "stdout",
     "output_type": "stream",
     "text": [
      "\n",
      "Loss:  6.04908657\n",
      "\n",
      "Loss:  6.03657\n",
      "\n",
      "Loss:  6.01400328\n",
      "\n",
      "Loss:  6.00215101\n",
      "\n",
      "Loss:  6.04420137\n",
      "\n",
      "Loss:  6.03483438\n",
      "\n",
      "Loss:  6.01008463\n",
      "\n",
      "Loss:  6.06529903\n",
      "\n",
      "Loss:  6.07765436\n",
      "\n",
      "Loss:  6.04433203\n",
      "\n",
      "FL-Loss:  [6.03782177]\n",
      "/blue/iruchkin/yuyangzhang/MagNavRL/Federal/trained_models_history_weights/\n"
     ]
    },
    {
     "name": "stderr",
     "output_type": "stream",
     "text": [
      "\u001b[38;2;255;6;0m  1%\u001b[39m \u001b[38;2;255;6;0m(43 of 4096)\u001b[39m |                      | Elapsed Time: 0:04:05 ETA:   6:25:56"
     ]
    },
    {
     "name": "stdout",
     "output_type": "stream",
     "text": [
      "\n",
      "Loss:  5.99691057\n",
      "\n",
      "Loss:  6.05590105\n",
      "\n",
      "Loss:  6.02336645\n",
      "\n",
      "Loss:  6.02360535\n",
      "\n",
      "Loss:  6.05156851\n",
      "\n",
      "Loss:  5.98991346\n",
      "\n",
      "Loss:  6.03038216\n",
      "\n",
      "Loss:  6.04794312\n",
      "\n",
      "Loss:  6.01536942\n",
      "\n",
      "Loss:  5.98848581\n",
      "\n",
      "FL-Loss:  [6.02234459]\n",
      "/blue/iruchkin/yuyangzhang/MagNavRL/Federal/trained_models_history_weights/\n"
     ]
    },
    {
     "name": "stderr",
     "output_type": "stream",
     "text": [
      "\u001b[38;2;255;7;0m  1%\u001b[39m \u001b[38;2;255;7;0m(44 of 4096)\u001b[39m |                      | Elapsed Time: 0:04:09 ETA:   6:23:20"
     ]
    },
    {
     "name": "stdout",
     "output_type": "stream",
     "text": [
      "\n",
      "Loss:  5.98845911\n",
      "\n",
      "Loss:  6.04172421\n",
      "\n",
      "Loss:  6.02153683\n",
      "\n",
      "Loss:  6.02392769\n",
      "\n",
      "Loss:  6.04550266\n",
      "\n",
      "Loss:  6.0406518\n",
      "\n",
      "Loss:  6.03505611\n",
      "\n",
      "Loss:  6.04994535\n",
      "\n",
      "Loss:  6.01941967\n",
      "\n",
      "Loss:  6.0236907\n",
      "\n",
      "FL-Loss:  [6.0289917]\n",
      "/blue/iruchkin/yuyangzhang/MagNavRL/Federal/trained_models_history_weights/\n"
     ]
    },
    {
     "name": "stderr",
     "output_type": "stream",
     "text": [
      "\u001b[38;2;255;7;0m  1%\u001b[39m \u001b[38;2;255;7;0m(45 of 4096)\u001b[39m |                      | Elapsed Time: 0:04:13 ETA:   6:20:48"
     ]
    },
    {
     "name": "stdout",
     "output_type": "stream",
     "text": [
      "\n",
      "Loss:  5.9878149\n",
      "\n",
      "Loss:  6.0536561\n",
      "\n",
      "Loss:  6.07277393\n",
      "\n",
      "Loss:  6.00060606\n",
      "\n",
      "Loss:  6.07392597\n",
      "\n",
      "Loss:  6.01894045\n",
      "\n",
      "Loss:  5.98429918\n",
      "\n",
      "Loss:  6.00783587\n",
      "\n",
      "Loss:  5.99905777\n",
      "\n",
      "Loss:  6.05066347\n",
      "\n",
      "FL-Loss:  [6.02495766]\n",
      "/blue/iruchkin/yuyangzhang/MagNavRL/Federal/trained_models_history_weights/\n"
     ]
    },
    {
     "name": "stderr",
     "output_type": "stream",
     "text": [
      "\u001b[38;2;255;7;0m  1%\u001b[39m \u001b[38;2;255;7;0m(46 of 4096)\u001b[39m |                      | Elapsed Time: 0:04:17 ETA:   6:18:27"
     ]
    },
    {
     "name": "stdout",
     "output_type": "stream",
     "text": [
      "\n",
      "Loss:  6.02302\n",
      "\n",
      "Loss:  5.98867083\n",
      "\n",
      "Loss:  6.03299665\n",
      "\n",
      "Loss:  6.039505\n",
      "\n",
      "Loss:  6.01389742\n",
      "\n",
      "Loss:  6.00160837\n",
      "\n",
      "Loss:  5.99028349\n",
      "\n",
      "Loss:  6.014606\n",
      "\n",
      "Loss:  6.01860619\n",
      "\n",
      "Loss:  6.02768898\n",
      "\n",
      "FL-Loss:  [6.01508808]\n",
      "/blue/iruchkin/yuyangzhang/MagNavRL/Federal/trained_models_history_weights/\n"
     ]
    },
    {
     "name": "stderr",
     "output_type": "stream",
     "text": [
      "\u001b[38;2;255;7;0m  1%\u001b[39m \u001b[38;2;255;7;0m(47 of 4096)\u001b[39m |                      | Elapsed Time: 0:04:22 ETA:   6:16:12"
     ]
    },
    {
     "name": "stdout",
     "output_type": "stream",
     "text": [
      "\n",
      "Loss:  6.00838614\n",
      "\n",
      "Loss:  6.039855\n",
      "\n",
      "Loss:  6.01286\n",
      "\n",
      "Loss:  6.0036273\n",
      "\n",
      "Loss:  6.04463673\n",
      "\n",
      "Loss:  5.96031761\n",
      "\n",
      "Loss:  5.99117756\n",
      "\n",
      "Loss:  5.98624802\n",
      "\n",
      "Loss:  6.03592587\n",
      "\n",
      "Loss:  6.03751945\n",
      "\n",
      "FL-Loss:  [6.0120554]\n",
      "/blue/iruchkin/yuyangzhang/MagNavRL/Federal/trained_models_history_weights/\n"
     ]
    },
    {
     "name": "stderr",
     "output_type": "stream",
     "text": [
      "\u001b[38;2;255;7;0m  1%\u001b[39m \u001b[38;2;255;7;0m(48 of 4096)\u001b[39m |                      | Elapsed Time: 0:04:26 ETA:   6:14:01"
     ]
    },
    {
     "name": "stdout",
     "output_type": "stream",
     "text": [
      "\n",
      "Loss:  6.06454325\n",
      "\n",
      "Loss:  5.99113464\n",
      "\n",
      "Loss:  5.99559259\n",
      "\n",
      "Loss:  6.0302453\n",
      "\n",
      "Loss:  6.02778673\n",
      "\n",
      "Loss:  6.00391102\n",
      "\n",
      "Loss:  5.99698496\n",
      "\n",
      "Loss:  6.04833651\n",
      "\n",
      "Loss:  6.0267787\n",
      "\n",
      "Loss:  6.00540733\n",
      "\n",
      "FL-Loss:  [6.01907206]\n",
      "/blue/iruchkin/yuyangzhang/MagNavRL/Federal/trained_models_history_weights/\n"
     ]
    },
    {
     "name": "stderr",
     "output_type": "stream",
     "text": [
      "\u001b[38;2;255;7;0m  1%\u001b[39m \u001b[38;2;255;7;0m(49 of 4096)\u001b[39m |                      | Elapsed Time: 0:04:30 ETA:   6:11:54"
     ]
    },
    {
     "name": "stdout",
     "output_type": "stream",
     "text": [
      "\n",
      "Loss:  6.04187393\n",
      "\n",
      "Loss:  6.04679823\n",
      "\n",
      "Loss:  5.93885612\n",
      "\n",
      "Loss:  5.97241545\n",
      "\n",
      "Loss:  6.04931736\n",
      "\n",
      "Loss:  6.03559208\n",
      "\n",
      "Loss:  6.04771423\n",
      "\n",
      "Loss:  6.02836752\n",
      "\n",
      "Loss:  6.04053974\n",
      "\n",
      "Loss:  6.03802967\n",
      "\n",
      "FL-Loss:  [6.02395058]\n",
      "/blue/iruchkin/yuyangzhang/MagNavRL/Federal/trained_models_history_weights/\n"
     ]
    },
    {
     "name": "stderr",
     "output_type": "stream",
     "text": [
      "\u001b[38;2;255;8;0m  1%\u001b[39m \u001b[38;2;255;8;0m(50 of 4096)\u001b[39m |                      | Elapsed Time: 0:04:34 ETA:   6:09:58"
     ]
    }
   ],
   "source": [
    "FEDERAL_ROOT = Path(\"/blue/iruchkin/yuyangzhang/MagNavRL\") / \"Federal\"\n",
    "FEDERAL_ROOT.mkdir(parents=True, exist_ok=True)          # make …/Federal\n",
    "\n",
    "MODELS_DIR = FEDERAL_ROOT / \"trained_models\"             # …/Federal/trained_models\n",
    "\n",
    "static_field_estimation(\n",
    "    batchsize        = 1024,\n",
    "    max_res          = 10000,\n",
    "    learning_rate    = 1e-3,\n",
    "    invT2            = T2_INV,\n",
    "    trained_models_dir = MODELS_DIR,\n",
    ")"
   ]
  },
  {
   "cell_type": "code",
   "execution_count": 8,
   "id": "465a2364-5f05-4c60-a263-02148a6ea2c6",
   "metadata": {},
   "outputs": [
    {
     "data": {
      "image/png": "[encoded data removed]",
      "text/plain": [
       "<Figure size 640x480 with 1 Axes>"
      ]
     },
     "metadata": {},
     "output_type": "display_data"
    }
   ],
   "source": [
    "# --- path to the history CSV produced by `static_field_estimation` ------------\n",
    "FEDERAL_ROOT = Path(\"/blue/iruchkin/yuyangzhang/MagNavRL\") / \"Federal\"\n",
    "MODELS_DIR   = FEDERAL_ROOT / \"trained_models\"\n",
    "history_csv  = MODELS_DIR.with_name(MODELS_DIR.name + \"_history.csv\")  # same rule as in utils.py\n",
    "\n",
    "# read the file\n",
    "df = pd.read_csv(history_csv)\n",
    "\n",
    "# build the x–axis: every row is one optimizer step (after averaging inside utils)\n",
    "iterations = range(1, len(df) + 1)\n",
    "\n",
    "# plot\n",
    "plt.figure()\n",
    "plt.plot(iterations, df[\"Loss\"], linewidth=1)\n",
    "plt.xlabel(\"Training iteration (× interval_save)\")\n",
    "plt.ylabel(\"FL‑Loss\")\n",
    "plt.title(\"Federated‑RL training loss\")\n",
    "plt.grid(True)\n",
    "plt.tight_layout()\n",
    "plt.show()"
   ]
  },
  {
   "cell_type": "code",
   "execution_count": null,
   "id": "da81bdef-486b-43f4-af1a-871dc27e8a91",
   "metadata": {},
   "outputs": [],
   "source": []
  },
  {
   "cell_type": "code",
   "execution_count": null,
   "id": "2ba6282f-1652-44b1-b637-95484a4ab7dd",
   "metadata": {},
   "outputs": [],
   "source": []
  },
  {
   "cell_type": "code",
   "execution_count": null,
   "id": "50f37c5a-48f8-4063-82d3-772ad1117863",
   "metadata": {},
   "outputs": [],
   "source": []
  },
  {
   "cell_type": "code",
   "execution_count": null,
   "id": "190a315d-fb66-482e-9ec3-385d97bafdc2",
   "metadata": {},
   "outputs": [],
   "source": []
  }
 ],
 "metadata": {
  "kernelspec": {
   "display_name": "yuyangpt",
   "language": "python",
   "name": "yuyangpt"
  },
  "language_info": {
   "codemirror_mode": {
    "name": "ipython",
    "version": 3
   },
   "file_extension": ".py",
   "mimetype": "text/x-python",
   "name": "python",
   "nbconvert_exporter": "python",
   "pygments_lexer": "ipython3",
   "version": "3.9.23"
  }
 },
 "nbformat": 4,
 "nbformat_minor": 5
}
